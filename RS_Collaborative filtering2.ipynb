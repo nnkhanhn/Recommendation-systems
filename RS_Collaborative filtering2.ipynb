{
 "cells": [
  {
   "cell_type": "code",
   "execution_count": 1,
   "metadata": {},
   "outputs": [],
   "source": [
    "import pandas as pd \n",
    "import numpy as np\n",
    "from sklearn.metrics.pairwise import cosine_similarity\n",
    "from scipy import sparse \n",
    "from data_loader import dataloader\n",
    "user,ratings,movies = dataloader()\n",
    "ratings = ratings.drop(\"timestamp\",axis=1)\n",
    "movie_index_by_id = {id: i for i, id in enumerate(movies[\"movie_id\"])}\n"
   ]
  },
  {
   "cell_type": "code",
   "execution_count": 2,
   "metadata": {},
   "outputs": [],
   "source": [
    "class MF(object):\n",
    "    \"\"\"docstring for CF\"\"\"\n",
    "    def __init__(self, Y_data, K, lam = 0.1, Xinit = None, Winit = None, \n",
    "            learning_rate = 0.5, max_iter = 1000, print_every = 100, user_based = 1):\n",
    "        self.Y_raw_data = Y_data\n",
    "        self.K = K\n",
    "        # regularization parameter\n",
    "        self.lam = lam\n",
    "        # learning rate for gradient descent\n",
    "        self.learning_rate = learning_rate\n",
    "        # maximum number of iterations\n",
    "        self.max_iter = max_iter\n",
    "        # print results after print_every iterations\n",
    "        self.print_every = print_every\n",
    "        # user-based or item-based\n",
    "        self.user_based = user_based\n",
    "        # number of users, items, and ratings. \n",
    "        self.n_users = int(np.max(Y_data[:, 0])) + 1 \n",
    "        self.n_items = 3901\n",
    "        self.n_ratings = Y_data.shape[0]\n",
    "        \n",
    "        if Xinit is None: # new\n",
    "            self.X = np.random.randn(self.n_items, K)\n",
    "        else: # or from saved data\n",
    "            self.X = Xinit \n",
    "        \n",
    "        if Winit is None: \n",
    "            self.W = np.random.randn(K, self.n_users)\n",
    "        else: # from daved data\n",
    "            self.W = Winit\n",
    "            \n",
    "        # normalized data, update later in normalized_Y function\n",
    "        self.Y_data_n = self.Y_raw_data.copy()\n",
    "\n",
    "\n",
    "    def normalize_Y(self):\n",
    "        if self.user_based:\n",
    "            user_col = 0\n",
    "            item_col = 1\n",
    "            n_objects = self.n_users\n",
    "\n",
    "        # if we want to normalize based on item, just switch first two columns of data\n",
    "        else: # item bas\n",
    "            user_col = 1\n",
    "            item_col = 0 \n",
    "            n_objects = self.n_items\n",
    "\n",
    "        users = self.Y_raw_data[:, user_col] \n",
    "        self.mu = np.zeros((n_objects,))\n",
    "        for n in range(n_objects):\n",
    "            # row indices of rating done by user n\n",
    "            # since indices need to be integers, we need to convert\n",
    "            ids = np.where(users == n)[0].astype(np.int32)\n",
    "            # indices of all ratings associated with user n\n",
    "            item_ids = self.Y_data_n[ids, item_col] \n",
    "            # and the corresponding ratings \n",
    "            ratings = self.Y_data_n[ids, 2]\n",
    "            # take mean\n",
    "            m = np.mean(ratings) \n",
    "            if np.isnan(m):\n",
    "                m = 0 # to avoid empty array and nan value\n",
    "            self.mu[n] = m\n",
    "            # normalize\n",
    "            self.Y_data_n[ids, 2] = ratings - self.mu[n]\n",
    "    def loss(self):\n",
    "        L = 0 \n",
    "        for i in range(self.n_ratings):\n",
    "            # user, item, rating\n",
    "            n, m, rate = int(self.Y_data_n[i, 0]), int(self.Y_data_n[i, 1]), self.Y_data_n[i, 2]\n",
    "            L += 0.5*(rate - self.X[m, :].dot(self.W[:, n]))**2\n",
    "        \n",
    "        # take average\n",
    "        L /= self.n_ratings\n",
    "        # regularization, don't ever forget this \n",
    "        L += 0.5*self.lam*(np.linalg.norm(self.X, 'fro') + np.linalg.norm(self.W, 'fro'))\n",
    "        return L \n",
    "    def get_items_rated_by_user(self, user_id):\n",
    "        ids = np.where(self.Y_data_n[:,0] == user_id)[0] \n",
    "        item_ids = self.Y_data_n[ids, 1].astype(np.int32) # indices need to be integers\n",
    "        ratings = self.Y_data_n[ids, 2]\n",
    "        return (item_ids, ratings)\n",
    "            \n",
    "        \n",
    "    def get_users_who_rate_item(self, item_id):\n",
    "        \"\"\"\n",
    "        get all users who rated item item_id and get the corresponding ratings\n",
    "        \"\"\"\n",
    "        ids = np.where(self.Y_data_n[:,1] == item_id)[0] \n",
    "        user_ids = self.Y_data_n[ids, 0].astype(np.int32)\n",
    "        ratings = self.Y_data_n[ids, 2]\n",
    "        return (user_ids, ratings)\n",
    "    def updateX(self):\n",
    "        for m in range(self.n_items):\n",
    "            user_ids, ratings = self.get_users_who_rate_item(m)\n",
    "            Wm = self.W[:, user_ids]\n",
    "            # gradient\n",
    "            grad_xm = -(ratings - self.X[m, :].dot(Wm)).dot(Wm.T)/self.n_ratings + \\\n",
    "                                               self.lam*self.X[m, :]\n",
    "            self.X[m, :] -= self.learning_rate*grad_xm.reshape((self.K,))\n",
    "    \n",
    "    def updateW(self):\n",
    "        for n in range(self.n_users):\n",
    "            item_ids, ratings = self.get_items_rated_by_user(n)\n",
    "            Xn = self.X[item_ids, :]\n",
    "            # gradient\n",
    "            grad_wn = -Xn.T.dot(ratings - Xn.dot(self.W[:, n]))/self.n_ratings + \\\n",
    "                        self.lam*self.W[:, n]\n",
    "            self.W[:, n] -= self.learning_rate*grad_wn.reshape((self.K,))\n",
    "    def fit(self):\n",
    "        self.normalize_Y()\n",
    "        for it in range(self.max_iter):\n",
    "            self.updateX()\n",
    "            self.updateW()\n",
    "            if (it + 1) % self.print_every == 0:\n",
    "                rmse_train = self.evaluate_RMSE(self.Y_raw_data)\n",
    "                print ('iter =', it + 1, ', loss =', self.loss(), ', RMSE train =', rmse_train)\n",
    "    def pred(self, u, i):\n",
    "        \"\"\" \n",
    "        predict the rating of user u for item i \n",
    "        if you need the un\n",
    "        \"\"\"\n",
    "        u = int(u)\n",
    "        i = int(i)\n",
    "        if self.user_based:\n",
    "            bias = self.mu[u]\n",
    "        else: \n",
    "            bias = self.mu[i]\n",
    "        pred = self.X[i, :].dot(self.W[:, u]) + bias \n",
    "        # truncate if results are out of range [0, 5]\n",
    "        if pred < 0:\n",
    "            return 0 \n",
    "        if pred > 5: \n",
    "            return 5 \n",
    "        return pred \n",
    "        \n",
    "    \n",
    "    def pred_for_user(self, user_id):\n",
    "        \"\"\"\n",
    "        predict ratings one user give all unrated items\n",
    "        \"\"\"\n",
    "        ids = np.where(self.Y_data_n[:, 0] == user_id)[0]\n",
    "        items_rated_by_u = self.Y_data_n[ids, 1].tolist()              \n",
    "        \n",
    "        y_pred = self.X.dot(self.W[:, user_id]) + self.mu[user_id]\n",
    "        predicted_ratings= []\n",
    "        for i in range(self.n_items):\n",
    "            if i not in items_rated_by_u:\n",
    "                predicted_ratings.append((y_pred[i],i))\n",
    "        \n",
    "        return predicted_ratings\n",
    "    def evaluate_RMSE(self, rate_test):\n",
    "        n_tests = rate_test.shape[0]\n",
    "        SE = 0 # squared error\n",
    "        for n in range(n_tests):\n",
    "            pred = self.pred(rate_test[n, 0], rate_test[n, 1])\n",
    "            SE += (pred - rate_test[n, 2])**2 \n",
    "\n",
    "        RMSE = np.sqrt(SE/n_tests)\n",
    "        return RMSE"
   ]
  },
  {
   "cell_type": "code",
   "execution_count": 3,
   "metadata": {},
   "outputs": [
    {
     "name": "stdout",
     "output_type": "stream",
     "text": [
      "[[   1 1193    5]\n",
      " [   1  661    3]\n",
      " [   1  914    3]\n",
      " ...\n",
      " [6040  562    5]\n",
      " [6040 1096    4]\n",
      " [6040 1097    4]]\n"
     ]
    }
   ],
   "source": [
    "ratings = ratings.values\n",
    "print(ratings)"
   ]
  },
  {
   "cell_type": "code",
   "execution_count": 4,
   "metadata": {},
   "outputs": [],
   "source": [
    "ratings1 = ratings.copy()"
   ]
  },
  {
   "cell_type": "code",
   "execution_count": 5,
   "metadata": {},
   "outputs": [],
   "source": [
    "ratings[:,1]= [movie_index_by_id[movie_id] for movie_id in ratings1[:,1]]\n"
   ]
  },
  {
   "cell_type": "code",
   "execution_count": 6,
   "metadata": {},
   "outputs": [
    {
     "name": "stdout",
     "output_type": "stream",
     "text": [
      "[[   1 1176    5]\n",
      " [   1  655    3]\n",
      " [   1  902    3]\n",
      " ...\n",
      " [6040  558    5]\n",
      " [6040 1080    4]\n",
      " [6040 1081    4]]\n",
      "3882\n"
     ]
    }
   ],
   "source": [
    "print(ratings)\n",
    "a= np.max(ratings[:,1])\n",
    "\n",
    "print(a)"
   ]
  },
  {
   "cell_type": "code",
   "execution_count": 7,
   "metadata": {},
   "outputs": [
    {
     "name": "stdout",
     "output_type": "stream",
     "text": [
      "user_id    int64\n",
      "genres     int64\n",
      "weight     int64\n",
      "dtype: object\n",
      "(93887, 3)\n"
     ]
    }
   ],
   "source": [
    "user_prof1 = pd.read_csv('u_dict.csv')\n",
    "print(user_prof1.dtypes)\n",
    "user_prof1 = user_prof1.values\n",
    "print(user_prof1.shape)"
   ]
  },
  {
   "cell_type": "code",
   "execution_count": 8,
   "metadata": {},
   "outputs": [
    {
     "name": "stdout",
     "output_type": "stream",
     "text": [
      "[   1    1    1 ... 6040 6040 6040]\n",
      "[[   0 1176]\n",
      " [   0  655]\n",
      " [   0  902]\n",
      " ...\n",
      " [6039 3898]\n",
      " [6039 3899]\n",
      " [6039 3900]]\n",
      "(733044, 3)\n",
      "733044\n"
     ]
    },
    {
     "name": "stdout",
     "output_type": "stream",
     "text": [
      "iter = 1 , loss = 9.74111964529772 , RMSE train = 1.4107672586176834\n",
      "iter = 2 , loss = 8.630394269476977 , RMSE train = 1.3138935554652746\n",
      "iter = 3 , loss = 7.686570031753345 , RMSE train = 1.2349875807633561\n",
      "iter = 4 , loss = 6.873587505640125 , RMSE train = 1.1735527990327954\n",
      "iter = 5 , loss = 6.1657394817893 , RMSE train = 1.1276568505608509\n",
      "iter = 6 , loss = 5.544273989494859 , RMSE train = 1.0943873285795775\n",
      "iter = 7 , loss = 4.995169411752363 , RMSE train = 1.0709530621647831\n",
      "iter = 8 , loss = 4.507668505358983 , RMSE train = 1.0548369287773014\n",
      "iter = 9 , loss = 4.073305916009741 , RMSE train = 1.0439633277932059\n",
      "iter = 10 , loss = 3.685257918060917 , RMSE train = 1.0367147313368634\n",
      "iter = 11 , loss = 3.3379034242034447 , RMSE train = 1.0319250872727899\n",
      "iter = 12 , loss = 3.026524138009614 , RMSE train = 1.0287695099777294\n",
      "\n",
      "Item-based MF, RMSE = 1.0388693368122008\n"
     ]
    }
   ],
   "source": [
    "print(ratings[:, 0])\n",
    "ratings[:, 0] -= 1\n",
    "user_prof1[:, 0] -= 1\n",
    "ratings = np.concatenate((ratings,user_prof1), axis = 0)\n",
    "print(ratings[:, :2])\n",
    "from sklearn.model_selection import train_test_split\n",
    "\n",
    "rate_train, rate_test = train_test_split(ratings, test_size=0.33, random_state=42)\n",
    "print(rate_train.shape)\n",
    "\n",
    "print(len(rate_train))\n",
    "\n",
    "rs = MF(rate_train, K = 2, lam = 0.1, print_every = 1, learning_rate = 1, max_iter = 12, user_based = 1)\n",
    "rs.fit()\n",
    "# evaluate on test data\n",
    "RMSE = rs.evaluate_RMSE(rate_test)\n",
    "print ('\\nItem-based MF, RMSE =', RMSE)"
   ]
  },
  {
   "cell_type": "code",
   "execution_count": 9,
   "metadata": {},
   "outputs": [
    {
     "name": "stdout",
     "output_type": "stream",
     "text": [
      "0\n"
     ]
    }
   ],
   "source": [
    "\n",
    "z = movie_index_by_id.copy()\n",
    "z=list(z.items())\n",
    "print(z[0][1])"
   ]
  },
  {
   "cell_type": "code",
   "execution_count": 10,
   "metadata": {},
   "outputs": [
    {
     "name": "stdout",
     "output_type": "stream",
     "text": [
      "4.108572103615547 - Nightmare Before Christmas, The (1993) - Children's|Comedy|Musical\n",
      "4.094487821540663 - Benji the Hunted (1987) - Adventure|Children's\n",
      "4.088572418164023 - Starman (1984) - Adventure|Drama|Romance|Sci-Fi\n",
      "4.06926895078934 - Rising Sun (1993) - Action|Drama|Mystery\n",
      "4.056261448636962 - Superstar (1999) - Comedy\n",
      "4.049865902547036 - See the Sea (Regarde la mer) (1997) - Drama\n",
      "4.037102898620157 - Spanking the Monkey (1994) - Comedy|Drama\n",
      "4.035415832999261 - Killing Fields, The (1984) - Drama|War\n",
      "4.03498213412894 - Jeremiah Johnson (1972) - Western\n",
      "4.027808071123727 - Forces of Nature (1999) - Comedy|Romance\n"
     ]
    }
   ],
   "source": [
    "a = rs.pred_for_user(1999)\n",
    "a.sort(reverse= True)\n",
    "for i in range(10):\n",
    "    print(a[i][0],\"-\",movies.iloc[z[ a[i][1]][1],1],\"-\",movies.iloc[z[a[i][1]][1],2])"
   ]
  },
  {
   "cell_type": "code",
   "execution_count": 11,
   "metadata": {},
   "outputs": [],
   "source": [
    "import pickle\n",
    "filename = 'rs_mf.sav'\n",
    "pickle.dump(rs,open(filename,'wb'))"
   ]
  },
  {
   "cell_type": "code",
   "execution_count": 12,
   "metadata": {},
   "outputs": [
    {
     "name": "stdout",
     "output_type": "stream",
     "text": [
      "0\n"
     ]
    }
   ],
   "source": [
    "import pickle\n",
    "rs1 = pickle.load((open('rs_mf.sav','rb')))\n",
    "z = movie_index_by_id.copy()\n",
    "z=list(z.items())\n",
    "print(z[0][1])"
   ]
  },
  {
   "cell_type": "code",
   "execution_count": 13,
   "metadata": {},
   "outputs": [
    {
     "name": "stdout",
     "output_type": "stream",
     "text": [
      "4.542791414482149 - Haunted Honeymoon (1986) - Comedy\n",
      "4.51222311564403 - Two Thousand Maniacs! (1964) - Horror\n",
      "4.505240465097792 - Alley Cats, The (1968) - Drama\n",
      "4.501279845692339 - Hunted, The (1995) - Action\n",
      "4.47670812849396 - Best Man, The (1999) - Drama\n",
      "4.465052778347367 - Poltergeist II: The Other Side (1986) - Horror|Thriller\n",
      "4.46073760272556 - Open Season (1996) - Comedy\n",
      "4.460515946541754 - I Love Trouble (1994) - Action|Comedy\n",
      "4.458353986310125 - Microcosmos (Microcosmos: Le peuple de l'herbe) (1996) - Documentary\n",
      "4.447418352469531 - Widows' Peak (1994) - Drama\n"
     ]
    }
   ],
   "source": [
    "b = rs1.pred_for_user(16)\n",
    "b.sort(reverse= True)\n",
    "for i in range(10):\n",
    "    print(b[i][0],\"-\",movies.iloc[z[ b[i][1]][1],1],\"-\",movies.iloc[z[b[i][1]][1],2])\n"
   ]
  },
  {
   "cell_type": "code",
   "execution_count": 14,
   "metadata": {},
   "outputs": [
    {
     "name": "stdout",
     "output_type": "stream",
     "text": [
      "3.992200963609919 - Haunted Honeymoon (1986) - Comedy\n",
      "3.951563822921604 - Alley Cats, The (1968) - Drama\n",
      "3.951120949893606 - Hunted, The (1995) - Action\n",
      "3.946181304153809 - Two Thousand Maniacs! (1964) - Horror\n",
      "3.9271539025806197 - Widows' Peak (1994) - Drama\n",
      "3.922241364135445 - Best Man, The (1999) - Drama\n",
      "3.921506273977291 - Open Season (1996) - Comedy\n",
      "3.921358124819325 - Microcosmos (Microcosmos: Le peuple de l'herbe) (1996) - Documentary\n",
      "3.9191196243661293 - Return to Oz (1985) - Adventure|Children's|Fantasy|Sci-Fi\n",
      "3.91719946069416 - I Love Trouble (1994) - Action|Comedy\n"
     ]
    }
   ],
   "source": [
    "b = rs1.pred_for_user(18)\n",
    "b.sort(reverse= True)\n",
    "for i in range(10):\n",
    "    print(b[i][0],\"-\",movies.iloc[z[ b[i][1]][1],1],\"-\",movies.iloc[z[b[i][1]][1],2])"
   ]
  },
  {
   "cell_type": "code",
   "execution_count": 15,
   "metadata": {},
   "outputs": [
    {
     "name": "stdout",
     "output_type": "stream",
     "text": [
      "0.009589749336242676\n"
     ]
    }
   ],
   "source": [
    "import time\n",
    "start = time.time()\n",
    "for i in range(1000):\n",
    "    rs1.pred_for_user(i)\n",
    "elapsed = (time.time() - start)/1000\n",
    "print(elapsed)\n",
    "    "
   ]
  }
 ],
 "metadata": {
  "kernelspec": {
   "display_name": "GPU",
   "language": "python",
   "name": "python3"
  },
  "language_info": {
   "codemirror_mode": {
    "name": "ipython",
    "version": 3
   },
   "file_extension": ".py",
   "mimetype": "text/x-python",
   "name": "python",
   "nbconvert_exporter": "python",
   "pygments_lexer": "ipython3",
   "version": "3.10.8"
  },
  "orig_nbformat": 4,
  "vscode": {
   "interpreter": {
    "hash": "7e2bc26b2c45a2768fc2d5409743fb042ee25d2b84a85e0694f8143ebb07f301"
   }
  }
 },
 "nbformat": 4,
 "nbformat_minor": 2
}
