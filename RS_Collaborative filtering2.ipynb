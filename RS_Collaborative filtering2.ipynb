{
 "cells": [
  {
   "cell_type": "code",
   "execution_count": 1,
   "metadata": {},
   "outputs": [],
   "source": [
    "import pandas as pd \n",
    "import numpy as np\n",
    "from sklearn.metrics.pairwise import cosine_similarity\n",
    "from scipy import sparse \n",
    "from data_loader import dataloader\n",
    "user,ratings,movies = dataloader()\n",
    "ratings = ratings.drop(\"timestamp\",axis=1)\n",
    "movie_index_by_id = {id: i for i, id in enumerate(movies[\"movie_id\"])}\n"
   ]
  },
  {
   "cell_type": "code",
   "execution_count": 3,
   "metadata": {},
   "outputs": [],
   "source": [
    "class MF(object):\n",
    "    \"\"\"docstring for CF\"\"\"\n",
    "    def __init__(self, Y_data, K, lam = 0.1, Xinit = None, Winit = None, \n",
    "            learning_rate = 0.5, max_iter = 1000, print_every = 100, user_based = 1):\n",
    "        self.Y_raw_data = Y_data\n",
    "        self.K = K\n",
    "        # regularization parameter\n",
    "        self.lam = lam\n",
    "        # learning rate for gradient descent\n",
    "        self.learning_rate = learning_rate\n",
    "        # maximum number of iterations\n",
    "        self.max_iter = max_iter\n",
    "        # print results after print_every iterations\n",
    "        self.print_every = print_every\n",
    "        # user-based or item-based\n",
    "        self.user_based = user_based\n",
    "        # number of users, items, and ratings. \n",
    "        self.n_users = int(np.max(Y_data[:, 0])) + 1 \n",
    "        self.n_items = 3901\n",
    "        self.n_ratings = Y_data.shape[0]\n",
    "        \n",
    "        if Xinit is None: # new\n",
    "            self.X = np.random.randn(self.n_items, K)\n",
    "        else: # or from saved data\n",
    "            self.X = Xinit \n",
    "        \n",
    "        if Winit is None: \n",
    "            self.W = np.random.randn(K, self.n_users)\n",
    "        else: # from daved data\n",
    "            self.W = Winit\n",
    "            \n",
    "        # normalized data, update later in normalized_Y function\n",
    "        self.Y_data_n = self.Y_raw_data.copy()\n",
    "\n",
    "\n",
    "    def normalize_Y(self):\n",
    "        if self.user_based:\n",
    "            user_col = 0\n",
    "            item_col = 1\n",
    "            n_objects = self.n_users\n",
    "\n",
    "        # if we want to normalize based on item, just switch first two columns of data\n",
    "        else: # item bas\n",
    "            user_col = 1\n",
    "            item_col = 0 \n",
    "            n_objects = self.n_items\n",
    "\n",
    "        users = self.Y_raw_data[:, user_col] \n",
    "        self.mu = np.zeros((n_objects,))\n",
    "        for n in range(n_objects):\n",
    "            # row indices of rating done by user n\n",
    "            # since indices need to be integers, we need to convert\n",
    "            ids = np.where(users == n)[0].astype(np.int32)\n",
    "            # indices of all ratings associated with user n\n",
    "            item_ids = self.Y_data_n[ids, item_col] \n",
    "            # and the corresponding ratings \n",
    "            ratings = self.Y_data_n[ids, 2]\n",
    "            # take mean\n",
    "            m = np.mean(ratings) \n",
    "            if np.isnan(m):\n",
    "                m = 0 # to avoid empty array and nan value\n",
    "            self.mu[n] = m\n",
    "            # normalize\n",
    "            self.Y_data_n[ids, 2] = ratings - self.mu[n]\n",
    "    def loss(self):\n",
    "        L = 0 \n",
    "        for i in range(self.n_ratings):\n",
    "            # user, item, rating\n",
    "            n, m, rate = int(self.Y_data_n[i, 0]), int(self.Y_data_n[i, 1]), self.Y_data_n[i, 2]\n",
    "            L += 0.5*(rate - self.X[m, :].dot(self.W[:, n]))**2\n",
    "        \n",
    "        # take average\n",
    "        L /= self.n_ratings\n",
    "        # regularization, don't ever forget this \n",
    "        L += 0.5*self.lam*(np.linalg.norm(self.X, 'fro') + np.linalg.norm(self.W, 'fro'))\n",
    "        return L \n",
    "    def get_items_rated_by_user(self, user_id):\n",
    "        ids = np.where(self.Y_data_n[:,0] == user_id)[0] \n",
    "        item_ids = self.Y_data_n[ids, 1].astype(np.int32) # indices need to be integers\n",
    "        ratings = self.Y_data_n[ids, 2]\n",
    "        return (item_ids, ratings)\n",
    "            \n",
    "        \n",
    "    def get_users_who_rate_item(self, item_id):\n",
    "        \"\"\"\n",
    "        get all users who rated item item_id and get the corresponding ratings\n",
    "        \"\"\"\n",
    "        ids = np.where(self.Y_data_n[:,1] == item_id)[0] \n",
    "        user_ids = self.Y_data_n[ids, 0].astype(np.int32)\n",
    "        ratings = self.Y_data_n[ids, 2]\n",
    "        return (user_ids, ratings)\n",
    "    def updateX(self):\n",
    "        for m in range(self.n_items):\n",
    "            user_ids, ratings = self.get_users_who_rate_item(m)\n",
    "            Wm = self.W[:, user_ids]\n",
    "            # gradient\n",
    "            grad_xm = -(ratings - self.X[m, :].dot(Wm)).dot(Wm.T)/self.n_ratings + \\\n",
    "                                               self.lam*self.X[m, :]\n",
    "            self.X[m, :] -= self.learning_rate*grad_xm.reshape((self.K,))\n",
    "    \n",
    "    def updateW(self):\n",
    "        for n in range(self.n_users):\n",
    "            item_ids, ratings = self.get_items_rated_by_user(n)\n",
    "            Xn = self.X[item_ids, :]\n",
    "            # gradient\n",
    "            grad_wn = -Xn.T.dot(ratings - Xn.dot(self.W[:, n]))/self.n_ratings + \\\n",
    "                        self.lam*self.W[:, n]\n",
    "            self.W[:, n] -= self.learning_rate*grad_wn.reshape((self.K,))\n",
    "    def fit(self):\n",
    "        self.normalize_Y()\n",
    "        for it in range(self.max_iter):\n",
    "            self.updateX()\n",
    "            self.updateW()\n",
    "            if (it + 1) % self.print_every == 0:\n",
    "                rmse_train = self.evaluate_RMSE(self.Y_raw_data)\n",
    "                print ('iter =', it + 1, ', loss =', self.loss(), ', RMSE train =', rmse_train)\n",
    "    def pred(self, u, i):\n",
    "        \"\"\" \n",
    "        predict the rating of user u for item i \n",
    "        if you need the un\n",
    "        \"\"\"\n",
    "        u = int(u)\n",
    "        i = int(i)\n",
    "        if self.user_based:\n",
    "            bias = self.mu[u]\n",
    "        else: \n",
    "            bias = self.mu[i]\n",
    "        pred = self.X[i, :].dot(self.W[:, u]) + bias \n",
    "        # truncate if results are out of range [0, 5]\n",
    "        if pred < 0:\n",
    "            return 0 \n",
    "        if pred > 5: \n",
    "            return 5 \n",
    "        return pred \n",
    "        \n",
    "    \n",
    "    def pred_for_user(self, user_id):\n",
    "        \"\"\"\n",
    "        predict ratings one user give all unrated items\n",
    "        \"\"\"\n",
    "        ids = np.where(self.Y_data_n[:, 0] == user_id)[0]\n",
    "        items_rated_by_u = self.Y_data_n[ids, 1].tolist()              \n",
    "        \n",
    "        y_pred = self.X.dot(self.W[:, user_id]) + self.mu[user_id]\n",
    "        predicted_ratings= []\n",
    "        for i in range(self.n_items):\n",
    "            if i not in items_rated_by_u:\n",
    "                predicted_ratings.append((y_pred[i],i))\n",
    "        \n",
    "        return predicted_ratings\n",
    "    def evaluate_RMSE(self, rate_test):\n",
    "        n_tests = rate_test.shape[0]\n",
    "        SE = 0 # squared error\n",
    "        for n in range(n_tests):\n",
    "            pred = self.pred(rate_test[n, 0], rate_test[n, 1])\n",
    "            SE += (pred - rate_test[n, 2])**2 \n",
    "\n",
    "        RMSE = np.sqrt(SE/n_tests)\n",
    "        return RMSE"
   ]
  },
  {
   "cell_type": "code",
   "execution_count": 3,
   "metadata": {},
   "outputs": [
    {
     "name": "stdout",
     "output_type": "stream",
     "text": [
      "[[   1 1193    5]\n",
      " [   1  661    3]\n",
      " [   1  914    3]\n",
      " ...\n",
      " [6040  562    5]\n",
      " [6040 1096    4]\n",
      " [6040 1097    4]]\n"
     ]
    }
   ],
   "source": [
    "ratings = ratings.values\n",
    "print(ratings)"
   ]
  },
  {
   "cell_type": "code",
   "execution_count": 4,
   "metadata": {},
   "outputs": [],
   "source": [
    "ratings1 = ratings.copy()"
   ]
  },
  {
   "cell_type": "code",
   "execution_count": 5,
   "metadata": {},
   "outputs": [],
   "source": [
    "ratings[:,1]= [movie_index_by_id[movie_id] for movie_id in ratings1[:,1]]\n"
   ]
  },
  {
   "cell_type": "code",
   "execution_count": 6,
   "metadata": {},
   "outputs": [
    {
     "name": "stdout",
     "output_type": "stream",
     "text": [
      "[[   1 1176    5]\n",
      " [   1  655    3]\n",
      " [   1  902    3]\n",
      " ...\n",
      " [6040  558    5]\n",
      " [6040 1080    4]\n",
      " [6040 1081    4]]\n",
      "3882\n"
     ]
    }
   ],
   "source": [
    "print(ratings)\n",
    "a= np.max(ratings[:,1])\n",
    "\n",
    "print(a)"
   ]
  },
  {
   "cell_type": "code",
   "execution_count": 7,
   "metadata": {},
   "outputs": [
    {
     "name": "stdout",
     "output_type": "stream",
     "text": [
      "user_id    int64\n",
      "genres     int64\n",
      "weight     int64\n",
      "dtype: object\n",
      "(93887, 3)\n"
     ]
    }
   ],
   "source": [
    "user_prof1 = pd.read_csv('u_dict.csv')\n",
    "print(user_prof1.dtypes)\n",
    "user_prof1 = user_prof1.values\n",
    "print(user_prof1.shape)"
   ]
  },
  {
   "cell_type": "code",
   "execution_count": 8,
   "metadata": {},
   "outputs": [
    {
     "name": "stdout",
     "output_type": "stream",
     "text": [
      "[   1    1    1 ... 6040 6040 6040]\n",
      "[[   0 1176]\n",
      " [   0  655]\n",
      " [   0  902]\n",
      " ...\n",
      " [6039 3898]\n",
      " [6039 3899]\n",
      " [6039 3900]]\n",
      "(733044, 3)\n",
      "733044\n",
      "iter = 2 , loss = 6.774988952832068 , RMSE train = 1.1616449633573458\n",
      "iter = 4 , loss = 4.345576101991285 , RMSE train = 1.0494954335876154\n",
      "iter = 6 , loss = 2.8569930087476383 , RMSE train = 1.027342863120282\n",
      "iter = 8 , loss = 1.9154264593643318 , RMSE train = 1.0235474666735698\n",
      "iter = 10 , loss = 1.3147078725958328 , RMSE train = 1.022902691123296\n",
      "iter = 12 , loss = 0.9305696302265787 , RMSE train = 1.022791648344494\n",
      "\n",
      "Item-based MF, RMSE = 1.032810722709122\n"
     ]
    }
   ],
   "source": [
    "print(ratings[:, 0])\n",
    "ratings[:, 0] -= 1\n",
    "user_prof1[:, 0] -= 1\n",
    "ratings = np.concatenate((ratings,user_prof1), axis = 0)\n",
    "print(ratings[:, :2])\n",
    "from sklearn.model_selection import train_test_split\n",
    "\n",
    "rate_train, rate_test = train_test_split(ratings, test_size=0.33, random_state=42)\n",
    "print(rate_train.shape)\n",
    "\n",
    "print(len(rate_train))\n",
    "\n",
    "rs = MF(rate_train, K = 2, lam = 0.1, print_every = 2, learning_rate = 2, max_iter = 12, user_based = 1)\n",
    "rs.fit()\n",
    "# evaluate on test data\n",
    "RMSE = rs.evaluate_RMSE(rate_test)\n",
    "print ('\\nItem-based MF, RMSE =', RMSE)"
   ]
  },
  {
   "cell_type": "code",
   "execution_count": 9,
   "metadata": {},
   "outputs": [
    {
     "name": "stdout",
     "output_type": "stream",
     "text": [
      "0\n"
     ]
    }
   ],
   "source": [
    "\n",
    "z = movie_index_by_id.copy()\n",
    "z=list(z.items())\n",
    "print(z[0][1])"
   ]
  },
  {
   "cell_type": "code",
   "execution_count": 10,
   "metadata": {},
   "outputs": [
    {
     "name": "stdout",
     "output_type": "stream",
     "text": [
      "3.6987196706715935 - Barefoot in the Park (1967) - Comedy\n",
      "3.6944124791661794 - Men Don't Leave (1990) - Drama\n",
      "3.694311650915036 - Gun Shy (2000) - Comedy\n",
      "3.6917289961721402 - Women, The (1939) - Comedy\n",
      "3.6916128456873456 - Arguing the World (1996) - Documentary\n",
      "3.69112888937164 - Pushing Tin (1999) - Comedy\n",
      "3.6910423867749214 - Time Bandits (1981) - Adventure|Fantasy|Sci-Fi\n",
      "3.6904033900572415 - Minus Man, The (1999) - Drama|Mystery\n",
      "3.689138361149956 - Aparajito (1956) - Drama\n",
      "3.689138162326936 - Men Cry Bullets (1997) - Drama\n"
     ]
    }
   ],
   "source": [
    "a = rs.pred_for_user(1999)\n",
    "a.sort(reverse= True)\n",
    "for i in range(10):\n",
    "    print(a[i][0],\"-\",movies.iloc[z[ a[i][1]][1],1],\"-\",movies.iloc[z[a[i][1]][1],2])"
   ]
  },
  {
   "cell_type": "code",
   "execution_count": null,
   "metadata": {},
   "outputs": [],
   "source": [
    "import pickle\n",
    "filename = 'rs_mf.sav'\n",
    "pickle.dump(rs,open(filename,'wb'))"
   ]
  },
  {
   "cell_type": "code",
   "execution_count": 4,
   "metadata": {},
   "outputs": [
    {
     "name": "stdout",
     "output_type": "stream",
     "text": [
      "0\n"
     ]
    }
   ],
   "source": [
    "import pickle\n",
    "rs1 = pickle.load((open('rs_mf.sav','rb')))\n",
    "z = movie_index_by_id.copy()\n",
    "z=list(z.items())\n",
    "print(z[0][1])"
   ]
  },
  {
   "cell_type": "code",
   "execution_count": 5,
   "metadata": {},
   "outputs": [
    {
     "name": "stdout",
     "output_type": "stream",
     "text": [
      "4.036368160031786 - Women, The (1939) - Comedy\n",
      "4.03221567802464 - Pushing Tin (1999) - Comedy\n",
      "4.032206537904481 - Barefoot in the Park (1967) - Comedy\n",
      "4.032136701872283 - Odd Couple II, The (1998) - Comedy\n",
      "4.0297776954847535 - Drowning Mona (2000) - Comedy\n",
      "4.029210696618647 - Arguing the World (1996) - Documentary\n",
      "4.0291381383190075 - Federal Hill (1994) - Drama\n",
      "4.028873638983723 - Death Wish 3 (1985) - Action|Drama\n",
      "4.028769272427318 - Taming of the Shrew, The (1967) - Comedy\n",
      "4.028574827778502 - Baraka (1992) - Documentary\n"
     ]
    }
   ],
   "source": [
    "b = rs1.pred_for_user(16)\n",
    "b.sort(reverse= True)\n",
    "for i in range(10):\n",
    "    print(b[i][0],\"-\",movies.iloc[z[ b[i][1]][1],1],\"-\",movies.iloc[z[b[i][1]][1],2])\n"
   ]
  },
  {
   "cell_type": "code",
   "execution_count": 6,
   "metadata": {},
   "outputs": [
    {
     "name": "stdout",
     "output_type": "stream",
     "text": [
      "3.5213399814084365 - Soylent Green (1973) - Sci-Fi|Thriller\n",
      "3.5206384601391165 - Color of Night (1994) - Drama|Thriller\n",
      "3.5204671309662294 - Wilde (1997) - Drama\n",
      "3.520417031961486 - Pocahontas (1995) - Animation|Children's|Musical|Romance\n",
      "3.520357902407809 - Taste of Cherry (1997) - Drama\n",
      "3.5199000728670664 - Old Man and the Sea, The (1958) - Adventure|Drama\n",
      "3.5196427320156736 - Broadway Damage (1997) - Comedy\n",
      "3.5194724314843566 - Vampires (1998) - Horror\n",
      "3.519367829700356 - Suburbans, The (1999) - Drama\n",
      "3.519028098556699 - Boys and Girls (2000) - Comedy|Romance\n"
     ]
    }
   ],
   "source": [
    "b = rs1.pred_for_user(18)\n",
    "b.sort(reverse= True)\n",
    "for i in range(10):\n",
    "    print(b[i][0],\"-\",movies.iloc[z[ b[i][1]][1],1],\"-\",movies.iloc[z[b[i][1]][1],2])"
   ]
  },
  {
   "cell_type": "code",
   "execution_count": 6,
   "metadata": {},
   "outputs": [
    {
     "name": "stdout",
     "output_type": "stream",
     "text": [
      "0.0076745452880859375\n"
     ]
    }
   ],
   "source": [
    "import time\n",
    "start = time.time()\n",
    "for i in range(1000):\n",
    "    rs1.pred_for_user(i)\n",
    "elapsed = (time.time() - start)/1000\n",
    "print(elapsed)\n",
    "    "
   ]
  }
 ],
 "metadata": {
  "kernelspec": {
   "display_name": "GPU",
   "language": "python",
   "name": "python3"
  },
  "language_info": {
   "codemirror_mode": {
    "name": "ipython",
    "version": 3
   },
   "file_extension": ".py",
   "mimetype": "text/x-python",
   "name": "python",
   "nbconvert_exporter": "python",
   "pygments_lexer": "ipython3",
   "version": "3.10.8"
  },
  "orig_nbformat": 4,
  "vscode": {
   "interpreter": {
    "hash": "7e2bc26b2c45a2768fc2d5409743fb042ee25d2b84a85e0694f8143ebb07f301"
   }
  }
 },
 "nbformat": 4,
 "nbformat_minor": 2
}
