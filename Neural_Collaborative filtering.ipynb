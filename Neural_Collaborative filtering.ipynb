{
 "cells": [
  {
   "cell_type": "code",
   "execution_count": 132,
   "metadata": {},
   "outputs": [],
   "source": [
    "from data_loader import dataloader\n",
    "import os\n",
    "import re\n",
    "import pickle\n",
    "import hashlib\n",
    "import zipfile\n",
    "import numpy as np\n",
    "import pandas as pd\n",
    "import tensorflow as tf\n",
    "from tqdm import tqdm\n",
    "from collections import Counter\n",
    "from os.path import isfile, isdir\n",
    "from urllib.request import urlretrieve\n",
    "from tensorflow.python.ops import math_ops\n",
    "from sklearn.model_selection import train_test_split"
   ]
  },
  {
   "cell_type": "code",
   "execution_count": 133,
   "metadata": {},
   "outputs": [
    {
     "data": {
      "text/plain": [
       "'2.8.0'"
      ]
     },
     "execution_count": 133,
     "metadata": {},
     "output_type": "execute_result"
    }
   ],
   "source": [
    "tf.__version__"
   ]
  },
  {
   "attachments": {},
   "cell_type": "markdown",
   "metadata": {},
   "source": [
    "PREPROCESSING"
   ]
  },
  {
   "cell_type": "code",
   "execution_count": 134,
   "metadata": {},
   "outputs": [
    {
     "name": "stdout",
     "output_type": "stream",
     "text": [
      "   user_id gender  age  occupation    zip\n",
      "0        1      F    1          10  48067\n",
      "1        2      M   56          16  70072\n",
      "2        3      M   25          15  55117\n",
      "3        4      M   45           7  02460\n",
      "4        5      M   25          20  55455\n",
      "   movie_id                               title                        genres\n",
      "0         1                    Toy Story (1995)   Animation|Children's|Comedy\n",
      "1         2                      Jumanji (1995)  Adventure|Children's|Fantasy\n",
      "2         3             Grumpier Old Men (1995)                Comedy|Romance\n",
      "3         4            Waiting to Exhale (1995)                  Comedy|Drama\n",
      "4         5  Father of the Bride Part II (1995)                        Comedy\n",
      "   user_id  movie_id  rating  timestamp\n",
      "0        1      1193       5  978300760\n",
      "1        1       661       3  978302109\n",
      "2        1       914       3  978301968\n",
      "3        1      3408       4  978300275\n",
      "4        1      2355       5  978824291\n"
     ]
    }
   ],
   "source": [
    "user,ratings,movies = dataloader()\n",
    "print(user.head())\n",
    "print(movies.head())\n",
    "print(ratings.head())"
   ]
  },
  {
   "cell_type": "code",
   "execution_count": 135,
   "metadata": {},
   "outputs": [
    {
     "name": "stdout",
     "output_type": "stream",
     "text": [
      "         user_id  movie_id  rating\n",
      "0              1      1193       5\n",
      "1              1       661       3\n",
      "2              1       914       3\n",
      "3              1      3408       4\n",
      "4              1      2355       5\n",
      "...          ...       ...     ...\n",
      "1000204     6040      1091       1\n",
      "1000205     6040      1094       5\n",
      "1000206     6040       562       5\n",
      "1000207     6040      1096       4\n",
      "1000208     6040      1097       4\n",
      "\n",
      "[1000209 rows x 3 columns]\n"
     ]
    }
   ],
   "source": [
    "ratings = ratings.filter(regex=('user_id|movie_id|rating'))\n",
    "print(ratings)"
   ]
  },
  {
   "cell_type": "code",
   "execution_count": 136,
   "metadata": {},
   "outputs": [
    {
     "name": "stdout",
     "output_type": "stream",
     "text": [
      "No of unique users: 6040\n",
      "No of unique movies:  3706 \n",
      "\n"
     ]
    }
   ],
   "source": [
    "n_users = len(ratings.user_id.unique())\n",
    "n_movies = len(ratings.movie_id.unique())\n",
    "print(\"No of unique users:\", n_users)\n",
    "print(\"No of unique movies: \", n_movies, \"\\n\")"
   ]
  },
  {
   "cell_type": "code",
   "execution_count": 137,
   "metadata": {},
   "outputs": [],
   "source": [
    "gender_map = {'F':0, 'M':1}\n",
    "user['gender'] = user['gender'].map(gender_map)\n",
    "age_map = {val:idx for idx, val in enumerate(set(user['age']))}\n",
    "user['age'] = user['age'].map(age_map)\n",
    "users = user.filter(regex='user_id|gender|age|occupation')\n",
    "users['user_inf'] = users.apply(lambda x: list([x['gender'],\n",
    "                                        x['age'],\n",
    "                                        x['occupation']]),axis=1) \n",
    "user_map = {}\n",
    "for i in range(len(users['user_id'])):\n",
    "    k = {users.iloc[i]['user_id']: np.array(users.iloc[i]['user_inf'])}\n",
    "    user_map.update(k)"
   ]
  },
  {
   "cell_type": "code",
   "execution_count": 138,
   "metadata": {},
   "outputs": [
    {
     "data": {
      "text/html": [
       "<div>\n",
       "<style scoped>\n",
       "    .dataframe tbody tr th:only-of-type {\n",
       "        vertical-align: middle;\n",
       "    }\n",
       "\n",
       "    .dataframe tbody tr th {\n",
       "        vertical-align: top;\n",
       "    }\n",
       "\n",
       "    .dataframe thead th {\n",
       "        text-align: right;\n",
       "    }\n",
       "</style>\n",
       "<table border=\"1\" class=\"dataframe\">\n",
       "  <thead>\n",
       "    <tr style=\"text-align: right;\">\n",
       "      <th></th>\n",
       "      <th>user_id</th>\n",
       "      <th>movie_id</th>\n",
       "      <th>rating</th>\n",
       "      <th>user_inf</th>\n",
       "    </tr>\n",
       "  </thead>\n",
       "  <tbody>\n",
       "    <tr>\n",
       "      <th>0</th>\n",
       "      <td>1</td>\n",
       "      <td>1193</td>\n",
       "      <td>5</td>\n",
       "      <td>[0, 0, 10]</td>\n",
       "    </tr>\n",
       "    <tr>\n",
       "      <th>1</th>\n",
       "      <td>1</td>\n",
       "      <td>661</td>\n",
       "      <td>3</td>\n",
       "      <td>[0, 0, 10]</td>\n",
       "    </tr>\n",
       "    <tr>\n",
       "      <th>2</th>\n",
       "      <td>1</td>\n",
       "      <td>914</td>\n",
       "      <td>3</td>\n",
       "      <td>[0, 0, 10]</td>\n",
       "    </tr>\n",
       "    <tr>\n",
       "      <th>3</th>\n",
       "      <td>1</td>\n",
       "      <td>3408</td>\n",
       "      <td>4</td>\n",
       "      <td>[0, 0, 10]</td>\n",
       "    </tr>\n",
       "    <tr>\n",
       "      <th>4</th>\n",
       "      <td>1</td>\n",
       "      <td>2355</td>\n",
       "      <td>5</td>\n",
       "      <td>[0, 0, 10]</td>\n",
       "    </tr>\n",
       "    <tr>\n",
       "      <th>...</th>\n",
       "      <td>...</td>\n",
       "      <td>...</td>\n",
       "      <td>...</td>\n",
       "      <td>...</td>\n",
       "    </tr>\n",
       "    <tr>\n",
       "      <th>1000204</th>\n",
       "      <td>6040</td>\n",
       "      <td>1091</td>\n",
       "      <td>1</td>\n",
       "      <td>[1, 6, 6]</td>\n",
       "    </tr>\n",
       "    <tr>\n",
       "      <th>1000205</th>\n",
       "      <td>6040</td>\n",
       "      <td>1094</td>\n",
       "      <td>5</td>\n",
       "      <td>[1, 6, 6]</td>\n",
       "    </tr>\n",
       "    <tr>\n",
       "      <th>1000206</th>\n",
       "      <td>6040</td>\n",
       "      <td>562</td>\n",
       "      <td>5</td>\n",
       "      <td>[1, 6, 6]</td>\n",
       "    </tr>\n",
       "    <tr>\n",
       "      <th>1000207</th>\n",
       "      <td>6040</td>\n",
       "      <td>1096</td>\n",
       "      <td>4</td>\n",
       "      <td>[1, 6, 6]</td>\n",
       "    </tr>\n",
       "    <tr>\n",
       "      <th>1000208</th>\n",
       "      <td>6040</td>\n",
       "      <td>1097</td>\n",
       "      <td>4</td>\n",
       "      <td>[1, 6, 6]</td>\n",
       "    </tr>\n",
       "  </tbody>\n",
       "</table>\n",
       "<p>1000209 rows × 4 columns</p>\n",
       "</div>"
      ],
      "text/plain": [
       "         user_id  movie_id  rating    user_inf\n",
       "0              1      1193       5  [0, 0, 10]\n",
       "1              1       661       3  [0, 0, 10]\n",
       "2              1       914       3  [0, 0, 10]\n",
       "3              1      3408       4  [0, 0, 10]\n",
       "4              1      2355       5  [0, 0, 10]\n",
       "...          ...       ...     ...         ...\n",
       "1000204     6040      1091       1   [1, 6, 6]\n",
       "1000205     6040      1094       5   [1, 6, 6]\n",
       "1000206     6040       562       5   [1, 6, 6]\n",
       "1000207     6040      1096       4   [1, 6, 6]\n",
       "1000208     6040      1097       4   [1, 6, 6]\n",
       "\n",
       "[1000209 rows x 4 columns]"
      ]
     },
     "execution_count": 138,
     "metadata": {},
     "output_type": "execute_result"
    }
   ],
   "source": [
    "ratings['user_inf'] = ratings.loc[:, 'user_id']\n",
    "ratings['user_inf'] = ratings['user_inf'].map(user_map)\n",
    "ratings"
   ]
  },
  {
   "cell_type": "code",
   "execution_count": 139,
   "metadata": {},
   "outputs": [
    {
     "name": "stdout",
     "output_type": "stream",
     "text": [
      "{'Action': 0, 'Adventure': 1, 'Animation': 2, \"Children's\": 3, 'Comedy': 4, 'Crime': 5, 'Documentary': 6, 'Drama': 7, 'Fantasy': 8, 'Film-Noir': 9, 'Horror': 10, 'Musical': 11, 'Mystery': 12, 'Romance': 13, 'Sci-Fi': 14, 'Thriller': 15, 'War': 16, 'Western': 17}\n",
      "<class 'int'>\n"
     ]
    }
   ],
   "source": [
    "movie_index_by_id = {id: i for i, id in enumerate(movies[\"movie_id\"])}\n",
    "# print(movie_index_by_id)\n",
    "genres_set = (\n",
    "    \"Action\",\n",
    "    \"Adventure\",\n",
    "    \"Animation\",\n",
    "    \"Children's\",\n",
    "    \"Comedy\",\n",
    "    \"Crime\",\n",
    "    \"Documentary\",\n",
    "    \"Drama\",\n",
    "    \"Fantasy\",\n",
    "    \"Film-Noir\",\n",
    "    \"Horror\",\n",
    "    \"Musical\",\n",
    "    \"Mystery\",\n",
    "    \"Romance\",\n",
    "    \"Sci-Fi\",\n",
    "    \"Thriller\",\n",
    "    \"War\",\n",
    "    \"Western\",\n",
    ")\n",
    "genre_index_by_name = {name:i for i, name in enumerate(genres_set)}\n",
    "print(genre_index_by_name)\n",
    "print(type(movie_index_by_id[1]))\n",
    "# print(type(movie_index_by_id[1]))\n",
    "movies_map = {}\n",
    "movie_features = np.zeros((len(movies), len(genres_set)))\n",
    "for i in range(len(movies)):\n",
    "    for genre in movies.iloc[i]['genres'].split(\"|\"):        \n",
    "        genre_index = genre_index_by_name[genre]\n",
    "        movie_features[i, genre_index] = 1\n",
    "    k = {movies.iloc[i]['movie_id']: movie_features[i]}\n",
    "    movies_map.update(k)"
   ]
  },
  {
   "cell_type": "code",
   "execution_count": 140,
   "metadata": {},
   "outputs": [
    {
     "data": {
      "text/html": [
       "<div>\n",
       "<style scoped>\n",
       "    .dataframe tbody tr th:only-of-type {\n",
       "        vertical-align: middle;\n",
       "    }\n",
       "\n",
       "    .dataframe tbody tr th {\n",
       "        vertical-align: top;\n",
       "    }\n",
       "\n",
       "    .dataframe thead th {\n",
       "        text-align: right;\n",
       "    }\n",
       "</style>\n",
       "<table border=\"1\" class=\"dataframe\">\n",
       "  <thead>\n",
       "    <tr style=\"text-align: right;\">\n",
       "      <th></th>\n",
       "      <th>user_id</th>\n",
       "      <th>movie_id</th>\n",
       "      <th>rating</th>\n",
       "      <th>user_inf</th>\n",
       "      <th>movie_inf</th>\n",
       "    </tr>\n",
       "  </thead>\n",
       "  <tbody>\n",
       "    <tr>\n",
       "      <th>0</th>\n",
       "      <td>1</td>\n",
       "      <td>1193</td>\n",
       "      <td>5</td>\n",
       "      <td>[0, 0, 10]</td>\n",
       "      <td>[0.0, 0.0, 0.0, 0.0, 0.0, 0.0, 0.0, 1.0, 0.0, ...</td>\n",
       "    </tr>\n",
       "    <tr>\n",
       "      <th>1</th>\n",
       "      <td>1</td>\n",
       "      <td>661</td>\n",
       "      <td>3</td>\n",
       "      <td>[0, 0, 10]</td>\n",
       "      <td>[0.0, 0.0, 1.0, 1.0, 0.0, 0.0, 0.0, 0.0, 0.0, ...</td>\n",
       "    </tr>\n",
       "    <tr>\n",
       "      <th>2</th>\n",
       "      <td>1</td>\n",
       "      <td>914</td>\n",
       "      <td>3</td>\n",
       "      <td>[0, 0, 10]</td>\n",
       "      <td>[0.0, 0.0, 0.0, 0.0, 0.0, 0.0, 0.0, 0.0, 0.0, ...</td>\n",
       "    </tr>\n",
       "    <tr>\n",
       "      <th>3</th>\n",
       "      <td>1</td>\n",
       "      <td>3408</td>\n",
       "      <td>4</td>\n",
       "      <td>[0, 0, 10]</td>\n",
       "      <td>[0.0, 0.0, 0.0, 0.0, 0.0, 0.0, 0.0, 1.0, 0.0, ...</td>\n",
       "    </tr>\n",
       "    <tr>\n",
       "      <th>4</th>\n",
       "      <td>1</td>\n",
       "      <td>2355</td>\n",
       "      <td>5</td>\n",
       "      <td>[0, 0, 10]</td>\n",
       "      <td>[0.0, 0.0, 1.0, 1.0, 1.0, 0.0, 0.0, 0.0, 0.0, ...</td>\n",
       "    </tr>\n",
       "    <tr>\n",
       "      <th>...</th>\n",
       "      <td>...</td>\n",
       "      <td>...</td>\n",
       "      <td>...</td>\n",
       "      <td>...</td>\n",
       "      <td>...</td>\n",
       "    </tr>\n",
       "    <tr>\n",
       "      <th>1000204</th>\n",
       "      <td>6040</td>\n",
       "      <td>1091</td>\n",
       "      <td>1</td>\n",
       "      <td>[1, 6, 6]</td>\n",
       "      <td>[0.0, 0.0, 0.0, 0.0, 1.0, 0.0, 0.0, 0.0, 0.0, ...</td>\n",
       "    </tr>\n",
       "    <tr>\n",
       "      <th>1000205</th>\n",
       "      <td>6040</td>\n",
       "      <td>1094</td>\n",
       "      <td>5</td>\n",
       "      <td>[1, 6, 6]</td>\n",
       "      <td>[0.0, 0.0, 0.0, 0.0, 0.0, 0.0, 0.0, 1.0, 0.0, ...</td>\n",
       "    </tr>\n",
       "    <tr>\n",
       "      <th>1000206</th>\n",
       "      <td>6040</td>\n",
       "      <td>562</td>\n",
       "      <td>5</td>\n",
       "      <td>[1, 6, 6]</td>\n",
       "      <td>[0.0, 0.0, 0.0, 0.0, 1.0, 0.0, 0.0, 1.0, 0.0, ...</td>\n",
       "    </tr>\n",
       "    <tr>\n",
       "      <th>1000207</th>\n",
       "      <td>6040</td>\n",
       "      <td>1096</td>\n",
       "      <td>4</td>\n",
       "      <td>[1, 6, 6]</td>\n",
       "      <td>[0.0, 0.0, 0.0, 0.0, 0.0, 0.0, 0.0, 1.0, 0.0, ...</td>\n",
       "    </tr>\n",
       "    <tr>\n",
       "      <th>1000208</th>\n",
       "      <td>6040</td>\n",
       "      <td>1097</td>\n",
       "      <td>4</td>\n",
       "      <td>[1, 6, 6]</td>\n",
       "      <td>[0.0, 0.0, 0.0, 1.0, 0.0, 0.0, 0.0, 1.0, 1.0, ...</td>\n",
       "    </tr>\n",
       "  </tbody>\n",
       "</table>\n",
       "<p>1000209 rows × 5 columns</p>\n",
       "</div>"
      ],
      "text/plain": [
       "         user_id  movie_id  rating    user_inf  \\\n",
       "0              1      1193       5  [0, 0, 10]   \n",
       "1              1       661       3  [0, 0, 10]   \n",
       "2              1       914       3  [0, 0, 10]   \n",
       "3              1      3408       4  [0, 0, 10]   \n",
       "4              1      2355       5  [0, 0, 10]   \n",
       "...          ...       ...     ...         ...   \n",
       "1000204     6040      1091       1   [1, 6, 6]   \n",
       "1000205     6040      1094       5   [1, 6, 6]   \n",
       "1000206     6040       562       5   [1, 6, 6]   \n",
       "1000207     6040      1096       4   [1, 6, 6]   \n",
       "1000208     6040      1097       4   [1, 6, 6]   \n",
       "\n",
       "                                                 movie_inf  \n",
       "0        [0.0, 0.0, 0.0, 0.0, 0.0, 0.0, 0.0, 1.0, 0.0, ...  \n",
       "1        [0.0, 0.0, 1.0, 1.0, 0.0, 0.0, 0.0, 0.0, 0.0, ...  \n",
       "2        [0.0, 0.0, 0.0, 0.0, 0.0, 0.0, 0.0, 0.0, 0.0, ...  \n",
       "3        [0.0, 0.0, 0.0, 0.0, 0.0, 0.0, 0.0, 1.0, 0.0, ...  \n",
       "4        [0.0, 0.0, 1.0, 1.0, 1.0, 0.0, 0.0, 0.0, 0.0, ...  \n",
       "...                                                    ...  \n",
       "1000204  [0.0, 0.0, 0.0, 0.0, 1.0, 0.0, 0.0, 0.0, 0.0, ...  \n",
       "1000205  [0.0, 0.0, 0.0, 0.0, 0.0, 0.0, 0.0, 1.0, 0.0, ...  \n",
       "1000206  [0.0, 0.0, 0.0, 0.0, 1.0, 0.0, 0.0, 1.0, 0.0, ...  \n",
       "1000207  [0.0, 0.0, 0.0, 0.0, 0.0, 0.0, 0.0, 1.0, 0.0, ...  \n",
       "1000208  [0.0, 0.0, 0.0, 1.0, 0.0, 0.0, 0.0, 1.0, 1.0, ...  \n",
       "\n",
       "[1000209 rows x 5 columns]"
      ]
     },
     "execution_count": 140,
     "metadata": {},
     "output_type": "execute_result"
    }
   ],
   "source": [
    "ratings['movie_inf'] = ratings.loc[:, 'movie_id']\n",
    "ratings['movie_inf'] = ratings['movie_inf'].map(movies_map)\n",
    "ratings"
   ]
  },
  {
   "cell_type": "code",
   "execution_count": 141,
   "metadata": {},
   "outputs": [
    {
     "data": {
      "text/plain": [
       "{3883: array([1., 0., 0., 0., 0., 0., 0., 0., 0., 0., 0., 0., 0., 0., 0., 0., 0.,\n",
       "        0.]),\n",
       " 3884: array([0., 1., 0., 0., 0., 0., 0., 0., 0., 0., 0., 0., 0., 0., 0., 0., 0.,\n",
       "        0.]),\n",
       " 3885: array([0., 0., 1., 0., 0., 0., 0., 0., 0., 0., 0., 0., 0., 0., 0., 0., 0.,\n",
       "        0.]),\n",
       " 3886: array([0., 0., 0., 1., 0., 0., 0., 0., 0., 0., 0., 0., 0., 0., 0., 0., 0.,\n",
       "        0.]),\n",
       " 3887: array([0., 0., 0., 0., 1., 0., 0., 0., 0., 0., 0., 0., 0., 0., 0., 0., 0.,\n",
       "        0.]),\n",
       " 3888: array([0., 0., 0., 0., 0., 1., 0., 0., 0., 0., 0., 0., 0., 0., 0., 0., 0.,\n",
       "        0.]),\n",
       " 3889: array([0., 0., 0., 0., 0., 0., 1., 0., 0., 0., 0., 0., 0., 0., 0., 0., 0.,\n",
       "        0.]),\n",
       " 3890: array([0., 0., 0., 0., 0., 0., 0., 1., 0., 0., 0., 0., 0., 0., 0., 0., 0.,\n",
       "        0.]),\n",
       " 3891: array([0., 0., 0., 0., 0., 0., 0., 0., 1., 0., 0., 0., 0., 0., 0., 0., 0.,\n",
       "        0.]),\n",
       " 3892: array([0., 0., 0., 0., 0., 0., 0., 0., 0., 1., 0., 0., 0., 0., 0., 0., 0.,\n",
       "        0.]),\n",
       " 3893: array([0., 0., 0., 0., 0., 0., 0., 0., 0., 0., 1., 0., 0., 0., 0., 0., 0.,\n",
       "        0.]),\n",
       " 3894: array([0., 0., 0., 0., 0., 0., 0., 0., 0., 0., 0., 1., 0., 0., 0., 0., 0.,\n",
       "        0.]),\n",
       " 3895: array([0., 0., 0., 0., 0., 0., 0., 0., 0., 0., 0., 0., 1., 0., 0., 0., 0.,\n",
       "        0.]),\n",
       " 3896: array([0., 0., 0., 0., 0., 0., 0., 0., 0., 0., 0., 0., 0., 1., 0., 0., 0.,\n",
       "        0.]),\n",
       " 3897: array([0., 0., 0., 0., 0., 0., 0., 0., 0., 0., 0., 0., 0., 0., 1., 0., 0.,\n",
       "        0.]),\n",
       " 3898: array([0., 0., 0., 0., 0., 0., 0., 0., 0., 0., 0., 0., 0., 0., 0., 1., 0.,\n",
       "        0.]),\n",
       " 3899: array([0., 0., 0., 0., 0., 0., 0., 0., 0., 0., 0., 0., 0., 0., 0., 0., 1.,\n",
       "        0.]),\n",
       " 3900: array([0., 0., 0., 0., 0., 0., 0., 0., 0., 0., 0., 0., 0., 0., 0., 0., 0.,\n",
       "        1.])}"
      ]
     },
     "execution_count": 141,
     "metadata": {},
     "output_type": "execute_result"
    }
   ],
   "source": [
    "map_2 = {}\n",
    "movie_features = np.zeros((18, len(genres_set)))\n",
    "for i in range(len(movie_features)):\n",
    "    genre_index = i\n",
    "    movie_features[i, genre_index] = 1\n",
    "    k  = {3883+i: movie_features[i]}\n",
    "    map_2.update(k)\n",
    "map_2\n"
   ]
  },
  {
   "cell_type": "code",
   "execution_count": 142,
   "metadata": {},
   "outputs": [],
   "source": [
    "user_prof1 = pd.read_csv('u_dict.csv')"
   ]
  },
  {
   "cell_type": "code",
   "execution_count": 143,
   "metadata": {},
   "outputs": [
    {
     "data": {
      "text/html": [
       "<div>\n",
       "<style scoped>\n",
       "    .dataframe tbody tr th:only-of-type {\n",
       "        vertical-align: middle;\n",
       "    }\n",
       "\n",
       "    .dataframe tbody tr th {\n",
       "        vertical-align: top;\n",
       "    }\n",
       "\n",
       "    .dataframe thead th {\n",
       "        text-align: right;\n",
       "    }\n",
       "</style>\n",
       "<table border=\"1\" class=\"dataframe\">\n",
       "  <thead>\n",
       "    <tr style=\"text-align: right;\">\n",
       "      <th></th>\n",
       "      <th>user_id</th>\n",
       "      <th>genres</th>\n",
       "      <th>weight</th>\n",
       "      <th>user_inf</th>\n",
       "    </tr>\n",
       "  </thead>\n",
       "  <tbody>\n",
       "    <tr>\n",
       "      <th>0</th>\n",
       "      <td>1</td>\n",
       "      <td>3883</td>\n",
       "      <td>4</td>\n",
       "      <td>[0, 0, 10]</td>\n",
       "    </tr>\n",
       "    <tr>\n",
       "      <th>1</th>\n",
       "      <td>1</td>\n",
       "      <td>3884</td>\n",
       "      <td>4</td>\n",
       "      <td>[0, 0, 10]</td>\n",
       "    </tr>\n",
       "    <tr>\n",
       "      <th>2</th>\n",
       "      <td>1</td>\n",
       "      <td>3885</td>\n",
       "      <td>4</td>\n",
       "      <td>[0, 0, 10]</td>\n",
       "    </tr>\n",
       "    <tr>\n",
       "      <th>3</th>\n",
       "      <td>1</td>\n",
       "      <td>3886</td>\n",
       "      <td>4</td>\n",
       "      <td>[0, 0, 10]</td>\n",
       "    </tr>\n",
       "    <tr>\n",
       "      <th>4</th>\n",
       "      <td>1</td>\n",
       "      <td>3887</td>\n",
       "      <td>4</td>\n",
       "      <td>[0, 0, 10]</td>\n",
       "    </tr>\n",
       "    <tr>\n",
       "      <th>...</th>\n",
       "      <td>...</td>\n",
       "      <td>...</td>\n",
       "      <td>...</td>\n",
       "      <td>...</td>\n",
       "    </tr>\n",
       "    <tr>\n",
       "      <th>93882</th>\n",
       "      <td>6040</td>\n",
       "      <td>3896</td>\n",
       "      <td>3</td>\n",
       "      <td>[1, 6, 6]</td>\n",
       "    </tr>\n",
       "    <tr>\n",
       "      <th>93883</th>\n",
       "      <td>6040</td>\n",
       "      <td>3897</td>\n",
       "      <td>3</td>\n",
       "      <td>[1, 6, 6]</td>\n",
       "    </tr>\n",
       "    <tr>\n",
       "      <th>93884</th>\n",
       "      <td>6040</td>\n",
       "      <td>3898</td>\n",
       "      <td>3</td>\n",
       "      <td>[1, 6, 6]</td>\n",
       "    </tr>\n",
       "    <tr>\n",
       "      <th>93885</th>\n",
       "      <td>6040</td>\n",
       "      <td>3899</td>\n",
       "      <td>3</td>\n",
       "      <td>[1, 6, 6]</td>\n",
       "    </tr>\n",
       "    <tr>\n",
       "      <th>93886</th>\n",
       "      <td>6040</td>\n",
       "      <td>3900</td>\n",
       "      <td>4</td>\n",
       "      <td>[1, 6, 6]</td>\n",
       "    </tr>\n",
       "  </tbody>\n",
       "</table>\n",
       "<p>93887 rows × 4 columns</p>\n",
       "</div>"
      ],
      "text/plain": [
       "       user_id  genres  weight    user_inf\n",
       "0            1    3883       4  [0, 0, 10]\n",
       "1            1    3884       4  [0, 0, 10]\n",
       "2            1    3885       4  [0, 0, 10]\n",
       "3            1    3886       4  [0, 0, 10]\n",
       "4            1    3887       4  [0, 0, 10]\n",
       "...        ...     ...     ...         ...\n",
       "93882     6040    3896       3   [1, 6, 6]\n",
       "93883     6040    3897       3   [1, 6, 6]\n",
       "93884     6040    3898       3   [1, 6, 6]\n",
       "93885     6040    3899       3   [1, 6, 6]\n",
       "93886     6040    3900       4   [1, 6, 6]\n",
       "\n",
       "[93887 rows x 4 columns]"
      ]
     },
     "execution_count": 143,
     "metadata": {},
     "output_type": "execute_result"
    }
   ],
   "source": [
    "user_prof1['user_inf'] = user_prof1.loc[:, 'user_id']\n",
    "user_prof1['user_inf'] = user_prof1['user_inf'].map(user_map)\n",
    "user_prof1"
   ]
  },
  {
   "cell_type": "code",
   "execution_count": 144,
   "metadata": {},
   "outputs": [
    {
     "data": {
      "text/html": [
       "<div>\n",
       "<style scoped>\n",
       "    .dataframe tbody tr th:only-of-type {\n",
       "        vertical-align: middle;\n",
       "    }\n",
       "\n",
       "    .dataframe tbody tr th {\n",
       "        vertical-align: top;\n",
       "    }\n",
       "\n",
       "    .dataframe thead th {\n",
       "        text-align: right;\n",
       "    }\n",
       "</style>\n",
       "<table border=\"1\" class=\"dataframe\">\n",
       "  <thead>\n",
       "    <tr style=\"text-align: right;\">\n",
       "      <th></th>\n",
       "      <th>user_id</th>\n",
       "      <th>genres</th>\n",
       "      <th>weight</th>\n",
       "      <th>user_inf</th>\n",
       "      <th>movie_inf</th>\n",
       "    </tr>\n",
       "  </thead>\n",
       "  <tbody>\n",
       "    <tr>\n",
       "      <th>0</th>\n",
       "      <td>1</td>\n",
       "      <td>3883</td>\n",
       "      <td>4</td>\n",
       "      <td>[0, 0, 10]</td>\n",
       "      <td>[1.0, 0.0, 0.0, 0.0, 0.0, 0.0, 0.0, 0.0, 0.0, ...</td>\n",
       "    </tr>\n",
       "    <tr>\n",
       "      <th>1</th>\n",
       "      <td>1</td>\n",
       "      <td>3884</td>\n",
       "      <td>4</td>\n",
       "      <td>[0, 0, 10]</td>\n",
       "      <td>[0.0, 1.0, 0.0, 0.0, 0.0, 0.0, 0.0, 0.0, 0.0, ...</td>\n",
       "    </tr>\n",
       "    <tr>\n",
       "      <th>2</th>\n",
       "      <td>1</td>\n",
       "      <td>3885</td>\n",
       "      <td>4</td>\n",
       "      <td>[0, 0, 10]</td>\n",
       "      <td>[0.0, 0.0, 1.0, 0.0, 0.0, 0.0, 0.0, 0.0, 0.0, ...</td>\n",
       "    </tr>\n",
       "    <tr>\n",
       "      <th>3</th>\n",
       "      <td>1</td>\n",
       "      <td>3886</td>\n",
       "      <td>4</td>\n",
       "      <td>[0, 0, 10]</td>\n",
       "      <td>[0.0, 0.0, 0.0, 1.0, 0.0, 0.0, 0.0, 0.0, 0.0, ...</td>\n",
       "    </tr>\n",
       "    <tr>\n",
       "      <th>4</th>\n",
       "      <td>1</td>\n",
       "      <td>3887</td>\n",
       "      <td>4</td>\n",
       "      <td>[0, 0, 10]</td>\n",
       "      <td>[0.0, 0.0, 0.0, 0.0, 1.0, 0.0, 0.0, 0.0, 0.0, ...</td>\n",
       "    </tr>\n",
       "    <tr>\n",
       "      <th>...</th>\n",
       "      <td>...</td>\n",
       "      <td>...</td>\n",
       "      <td>...</td>\n",
       "      <td>...</td>\n",
       "      <td>...</td>\n",
       "    </tr>\n",
       "    <tr>\n",
       "      <th>93882</th>\n",
       "      <td>6040</td>\n",
       "      <td>3896</td>\n",
       "      <td>3</td>\n",
       "      <td>[1, 6, 6]</td>\n",
       "      <td>[0.0, 0.0, 0.0, 0.0, 0.0, 0.0, 0.0, 0.0, 0.0, ...</td>\n",
       "    </tr>\n",
       "    <tr>\n",
       "      <th>93883</th>\n",
       "      <td>6040</td>\n",
       "      <td>3897</td>\n",
       "      <td>3</td>\n",
       "      <td>[1, 6, 6]</td>\n",
       "      <td>[0.0, 0.0, 0.0, 0.0, 0.0, 0.0, 0.0, 0.0, 0.0, ...</td>\n",
       "    </tr>\n",
       "    <tr>\n",
       "      <th>93884</th>\n",
       "      <td>6040</td>\n",
       "      <td>3898</td>\n",
       "      <td>3</td>\n",
       "      <td>[1, 6, 6]</td>\n",
       "      <td>[0.0, 0.0, 0.0, 0.0, 0.0, 0.0, 0.0, 0.0, 0.0, ...</td>\n",
       "    </tr>\n",
       "    <tr>\n",
       "      <th>93885</th>\n",
       "      <td>6040</td>\n",
       "      <td>3899</td>\n",
       "      <td>3</td>\n",
       "      <td>[1, 6, 6]</td>\n",
       "      <td>[0.0, 0.0, 0.0, 0.0, 0.0, 0.0, 0.0, 0.0, 0.0, ...</td>\n",
       "    </tr>\n",
       "    <tr>\n",
       "      <th>93886</th>\n",
       "      <td>6040</td>\n",
       "      <td>3900</td>\n",
       "      <td>4</td>\n",
       "      <td>[1, 6, 6]</td>\n",
       "      <td>[0.0, 0.0, 0.0, 0.0, 0.0, 0.0, 0.0, 0.0, 0.0, ...</td>\n",
       "    </tr>\n",
       "  </tbody>\n",
       "</table>\n",
       "<p>93887 rows × 5 columns</p>\n",
       "</div>"
      ],
      "text/plain": [
       "       user_id  genres  weight    user_inf  \\\n",
       "0            1    3883       4  [0, 0, 10]   \n",
       "1            1    3884       4  [0, 0, 10]   \n",
       "2            1    3885       4  [0, 0, 10]   \n",
       "3            1    3886       4  [0, 0, 10]   \n",
       "4            1    3887       4  [0, 0, 10]   \n",
       "...        ...     ...     ...         ...   \n",
       "93882     6040    3896       3   [1, 6, 6]   \n",
       "93883     6040    3897       3   [1, 6, 6]   \n",
       "93884     6040    3898       3   [1, 6, 6]   \n",
       "93885     6040    3899       3   [1, 6, 6]   \n",
       "93886     6040    3900       4   [1, 6, 6]   \n",
       "\n",
       "                                               movie_inf  \n",
       "0      [1.0, 0.0, 0.0, 0.0, 0.0, 0.0, 0.0, 0.0, 0.0, ...  \n",
       "1      [0.0, 1.0, 0.0, 0.0, 0.0, 0.0, 0.0, 0.0, 0.0, ...  \n",
       "2      [0.0, 0.0, 1.0, 0.0, 0.0, 0.0, 0.0, 0.0, 0.0, ...  \n",
       "3      [0.0, 0.0, 0.0, 1.0, 0.0, 0.0, 0.0, 0.0, 0.0, ...  \n",
       "4      [0.0, 0.0, 0.0, 0.0, 1.0, 0.0, 0.0, 0.0, 0.0, ...  \n",
       "...                                                  ...  \n",
       "93882  [0.0, 0.0, 0.0, 0.0, 0.0, 0.0, 0.0, 0.0, 0.0, ...  \n",
       "93883  [0.0, 0.0, 0.0, 0.0, 0.0, 0.0, 0.0, 0.0, 0.0, ...  \n",
       "93884  [0.0, 0.0, 0.0, 0.0, 0.0, 0.0, 0.0, 0.0, 0.0, ...  \n",
       "93885  [0.0, 0.0, 0.0, 0.0, 0.0, 0.0, 0.0, 0.0, 0.0, ...  \n",
       "93886  [0.0, 0.0, 0.0, 0.0, 0.0, 0.0, 0.0, 0.0, 0.0, ...  \n",
       "\n",
       "[93887 rows x 5 columns]"
      ]
     },
     "execution_count": 144,
     "metadata": {},
     "output_type": "execute_result"
    }
   ],
   "source": [
    "user_prof1['movie_inf'] = user_prof1.loc[:, 'genres']\n",
    "user_prof1['movie_inf'] = user_prof1['movie_inf'].map(map_2)\n",
    "user_prof1\n"
   ]
  },
  {
   "cell_type": "code",
   "execution_count": 145,
   "metadata": {},
   "outputs": [
    {
     "data": {
      "image/png": "[encoded data removed]",
      "text/plain": [
       "<Figure size 600x500 with 1 Axes>"
      ]
     },
     "metadata": {},
     "output_type": "display_data"
    }
   ],
   "source": [
    "import matplotlib.pyplot as plt\n",
    "rating_count = ratings[['movie_id','rating']].groupby(['movie_id']).count()\n",
    "plt.figure(figsize=(6,5))\n",
    "plt.scatter(rating_count.index, rating_count.rating, edgecolor='black')\n",
    "plt.xlim(0,rating_count.index.max())\n",
    "plt.ylim(0,)\n",
    "plt.title('Number of Ratings per movie')\n",
    "plt.xlabel('movieId')\n",
    "plt.ylabel('Number of ratings received')\n",
    "plt.show()"
   ]
  },
  {
   "cell_type": "code",
   "execution_count": 146,
   "metadata": {},
   "outputs": [],
   "source": [
    "train, test = train_test_split(ratings, test_size= 0.2, random_state= 42)\n",
    "train\n",
    "user_prof1.rename(columns = {'genres':'movie_id', 'weight':'rating',\n",
    "                              'movie_inf':'movie_inf'}, inplace = True)"
   ]
  },
  {
   "cell_type": "code",
   "execution_count": 147,
   "metadata": {},
   "outputs": [
    {
     "data": {
      "text/html": [
       "<div>\n",
       "<style scoped>\n",
       "    .dataframe tbody tr th:only-of-type {\n",
       "        vertical-align: middle;\n",
       "    }\n",
       "\n",
       "    .dataframe tbody tr th {\n",
       "        vertical-align: top;\n",
       "    }\n",
       "\n",
       "    .dataframe thead th {\n",
       "        text-align: right;\n",
       "    }\n",
       "</style>\n",
       "<table border=\"1\" class=\"dataframe\">\n",
       "  <thead>\n",
       "    <tr style=\"text-align: right;\">\n",
       "      <th></th>\n",
       "      <th>user_id</th>\n",
       "      <th>movie_id</th>\n",
       "      <th>rating</th>\n",
       "      <th>user_inf</th>\n",
       "      <th>movie_inf</th>\n",
       "    </tr>\n",
       "  </thead>\n",
       "  <tbody>\n",
       "    <tr>\n",
       "      <th>416292</th>\n",
       "      <td>2507</td>\n",
       "      <td>3035</td>\n",
       "      <td>2</td>\n",
       "      <td>[1, 6, 4]</td>\n",
       "      <td>[0.0, 0.0, 0.0, 0.0, 1.0, 0.0, 0.0, 1.0, 0.0, ...</td>\n",
       "    </tr>\n",
       "    <tr>\n",
       "      <th>683230</th>\n",
       "      <td>4087</td>\n",
       "      <td>2840</td>\n",
       "      <td>4</td>\n",
       "      <td>[1, 0, 4]</td>\n",
       "      <td>[0.0, 0.0, 0.0, 0.0, 0.0, 0.0, 0.0, 0.0, 0.0, ...</td>\n",
       "    </tr>\n",
       "    <tr>\n",
       "      <th>2434</th>\n",
       "      <td>19</td>\n",
       "      <td>457</td>\n",
       "      <td>3</td>\n",
       "      <td>[1, 0, 10]</td>\n",
       "      <td>[1.0, 0.0, 0.0, 0.0, 0.0, 0.0, 0.0, 0.0, 0.0, ...</td>\n",
       "    </tr>\n",
       "    <tr>\n",
       "      <th>688533</th>\n",
       "      <td>4118</td>\n",
       "      <td>2804</td>\n",
       "      <td>4</td>\n",
       "      <td>[1, 6, 3]</td>\n",
       "      <td>[0.0, 0.0, 0.0, 0.0, 1.0, 0.0, 0.0, 1.0, 0.0, ...</td>\n",
       "    </tr>\n",
       "    <tr>\n",
       "      <th>472584</th>\n",
       "      <td>2907</td>\n",
       "      <td>805</td>\n",
       "      <td>4</td>\n",
       "      <td>[0, 1, 5]</td>\n",
       "      <td>[0.0, 0.0, 0.0, 0.0, 0.0, 0.0, 0.0, 1.0, 0.0, ...</td>\n",
       "    </tr>\n",
       "    <tr>\n",
       "      <th>...</th>\n",
       "      <td>...</td>\n",
       "      <td>...</td>\n",
       "      <td>...</td>\n",
       "      <td>...</td>\n",
       "      <td>...</td>\n",
       "    </tr>\n",
       "    <tr>\n",
       "      <th>259178</th>\n",
       "      <td>1586</td>\n",
       "      <td>1077</td>\n",
       "      <td>5</td>\n",
       "      <td>[1, 2, 7]</td>\n",
       "      <td>[0.0, 0.0, 0.0, 0.0, 1.0, 0.0, 0.0, 0.0, 0.0, ...</td>\n",
       "    </tr>\n",
       "    <tr>\n",
       "      <th>365838</th>\n",
       "      <td>2129</td>\n",
       "      <td>2700</td>\n",
       "      <td>5</td>\n",
       "      <td>[1, 6, 5]</td>\n",
       "      <td>[0.0, 0.0, 1.0, 0.0, 1.0, 0.0, 0.0, 0.0, 0.0, ...</td>\n",
       "    </tr>\n",
       "    <tr>\n",
       "      <th>131932</th>\n",
       "      <td>854</td>\n",
       "      <td>3102</td>\n",
       "      <td>3</td>\n",
       "      <td>[0, 6, 16]</td>\n",
       "      <td>[0.0, 0.0, 0.0, 0.0, 0.0, 0.0, 0.0, 0.0, 0.0, ...</td>\n",
       "    </tr>\n",
       "    <tr>\n",
       "      <th>671155</th>\n",
       "      <td>4033</td>\n",
       "      <td>3479</td>\n",
       "      <td>5</td>\n",
       "      <td>[1, 6, 6]</td>\n",
       "      <td>[0.0, 1.0, 0.0, 0.0, 0.0, 0.0, 0.0, 0.0, 1.0, ...</td>\n",
       "    </tr>\n",
       "    <tr>\n",
       "      <th>121958</th>\n",
       "      <td>786</td>\n",
       "      <td>1391</td>\n",
       "      <td>4</td>\n",
       "      <td>[1, 6, 0]</td>\n",
       "      <td>[1.0, 0.0, 0.0, 0.0, 1.0, 0.0, 0.0, 0.0, 0.0, ...</td>\n",
       "    </tr>\n",
       "  </tbody>\n",
       "</table>\n",
       "<p>800167 rows × 5 columns</p>\n",
       "</div>"
      ],
      "text/plain": [
       "        user_id  movie_id  rating    user_inf  \\\n",
       "416292     2507      3035       2   [1, 6, 4]   \n",
       "683230     4087      2840       4   [1, 0, 4]   \n",
       "2434         19       457       3  [1, 0, 10]   \n",
       "688533     4118      2804       4   [1, 6, 3]   \n",
       "472584     2907       805       4   [0, 1, 5]   \n",
       "...         ...       ...     ...         ...   \n",
       "259178     1586      1077       5   [1, 2, 7]   \n",
       "365838     2129      2700       5   [1, 6, 5]   \n",
       "131932      854      3102       3  [0, 6, 16]   \n",
       "671155     4033      3479       5   [1, 6, 6]   \n",
       "121958      786      1391       4   [1, 6, 0]   \n",
       "\n",
       "                                                movie_inf  \n",
       "416292  [0.0, 0.0, 0.0, 0.0, 1.0, 0.0, 0.0, 1.0, 0.0, ...  \n",
       "683230  [0.0, 0.0, 0.0, 0.0, 0.0, 0.0, 0.0, 0.0, 0.0, ...  \n",
       "2434    [1.0, 0.0, 0.0, 0.0, 0.0, 0.0, 0.0, 0.0, 0.0, ...  \n",
       "688533  [0.0, 0.0, 0.0, 0.0, 1.0, 0.0, 0.0, 1.0, 0.0, ...  \n",
       "472584  [0.0, 0.0, 0.0, 0.0, 0.0, 0.0, 0.0, 1.0, 0.0, ...  \n",
       "...                                                   ...  \n",
       "259178  [0.0, 0.0, 0.0, 0.0, 1.0, 0.0, 0.0, 0.0, 0.0, ...  \n",
       "365838  [0.0, 0.0, 1.0, 0.0, 1.0, 0.0, 0.0, 0.0, 0.0, ...  \n",
       "131932  [0.0, 0.0, 0.0, 0.0, 0.0, 0.0, 0.0, 0.0, 0.0, ...  \n",
       "671155  [0.0, 1.0, 0.0, 0.0, 0.0, 0.0, 0.0, 0.0, 1.0, ...  \n",
       "121958  [1.0, 0.0, 0.0, 0.0, 1.0, 0.0, 0.0, 0.0, 0.0, ...  \n",
       "\n",
       "[800167 rows x 5 columns]"
      ]
     },
     "execution_count": 147,
     "metadata": {},
     "output_type": "execute_result"
    }
   ],
   "source": [
    "train"
   ]
  },
  {
   "cell_type": "code",
   "execution_count": 148,
   "metadata": {},
   "outputs": [
    {
     "data": {
      "text/html": [
       "<div>\n",
       "<style scoped>\n",
       "    .dataframe tbody tr th:only-of-type {\n",
       "        vertical-align: middle;\n",
       "    }\n",
       "\n",
       "    .dataframe tbody tr th {\n",
       "        vertical-align: top;\n",
       "    }\n",
       "\n",
       "    .dataframe thead th {\n",
       "        text-align: right;\n",
       "    }\n",
       "</style>\n",
       "<table border=\"1\" class=\"dataframe\">\n",
       "  <thead>\n",
       "    <tr style=\"text-align: right;\">\n",
       "      <th></th>\n",
       "      <th>user_id</th>\n",
       "      <th>movie_id</th>\n",
       "      <th>rating</th>\n",
       "      <th>user_inf</th>\n",
       "      <th>movie_inf</th>\n",
       "    </tr>\n",
       "  </thead>\n",
       "  <tbody>\n",
       "    <tr>\n",
       "      <th>416292</th>\n",
       "      <td>2507</td>\n",
       "      <td>3035</td>\n",
       "      <td>2</td>\n",
       "      <td>[1, 6, 4]</td>\n",
       "      <td>[0.0, 0.0, 0.0, 0.0, 1.0, 0.0, 0.0, 1.0, 0.0, ...</td>\n",
       "    </tr>\n",
       "    <tr>\n",
       "      <th>683230</th>\n",
       "      <td>4087</td>\n",
       "      <td>2840</td>\n",
       "      <td>4</td>\n",
       "      <td>[1, 0, 4]</td>\n",
       "      <td>[0.0, 0.0, 0.0, 0.0, 0.0, 0.0, 0.0, 0.0, 0.0, ...</td>\n",
       "    </tr>\n",
       "    <tr>\n",
       "      <th>2434</th>\n",
       "      <td>19</td>\n",
       "      <td>457</td>\n",
       "      <td>3</td>\n",
       "      <td>[1, 0, 10]</td>\n",
       "      <td>[1.0, 0.0, 0.0, 0.0, 0.0, 0.0, 0.0, 0.0, 0.0, ...</td>\n",
       "    </tr>\n",
       "    <tr>\n",
       "      <th>688533</th>\n",
       "      <td>4118</td>\n",
       "      <td>2804</td>\n",
       "      <td>4</td>\n",
       "      <td>[1, 6, 3]</td>\n",
       "      <td>[0.0, 0.0, 0.0, 0.0, 1.0, 0.0, 0.0, 1.0, 0.0, ...</td>\n",
       "    </tr>\n",
       "    <tr>\n",
       "      <th>472584</th>\n",
       "      <td>2907</td>\n",
       "      <td>805</td>\n",
       "      <td>4</td>\n",
       "      <td>[0, 1, 5]</td>\n",
       "      <td>[0.0, 0.0, 0.0, 0.0, 0.0, 0.0, 0.0, 1.0, 0.0, ...</td>\n",
       "    </tr>\n",
       "    <tr>\n",
       "      <th>...</th>\n",
       "      <td>...</td>\n",
       "      <td>...</td>\n",
       "      <td>...</td>\n",
       "      <td>...</td>\n",
       "      <td>...</td>\n",
       "    </tr>\n",
       "    <tr>\n",
       "      <th>93882</th>\n",
       "      <td>6040</td>\n",
       "      <td>3896</td>\n",
       "      <td>3</td>\n",
       "      <td>[1, 6, 6]</td>\n",
       "      <td>[0.0, 0.0, 0.0, 0.0, 0.0, 0.0, 0.0, 0.0, 0.0, ...</td>\n",
       "    </tr>\n",
       "    <tr>\n",
       "      <th>93883</th>\n",
       "      <td>6040</td>\n",
       "      <td>3897</td>\n",
       "      <td>3</td>\n",
       "      <td>[1, 6, 6]</td>\n",
       "      <td>[0.0, 0.0, 0.0, 0.0, 0.0, 0.0, 0.0, 0.0, 0.0, ...</td>\n",
       "    </tr>\n",
       "    <tr>\n",
       "      <th>93884</th>\n",
       "      <td>6040</td>\n",
       "      <td>3898</td>\n",
       "      <td>3</td>\n",
       "      <td>[1, 6, 6]</td>\n",
       "      <td>[0.0, 0.0, 0.0, 0.0, 0.0, 0.0, 0.0, 0.0, 0.0, ...</td>\n",
       "    </tr>\n",
       "    <tr>\n",
       "      <th>93885</th>\n",
       "      <td>6040</td>\n",
       "      <td>3899</td>\n",
       "      <td>3</td>\n",
       "      <td>[1, 6, 6]</td>\n",
       "      <td>[0.0, 0.0, 0.0, 0.0, 0.0, 0.0, 0.0, 0.0, 0.0, ...</td>\n",
       "    </tr>\n",
       "    <tr>\n",
       "      <th>93886</th>\n",
       "      <td>6040</td>\n",
       "      <td>3900</td>\n",
       "      <td>4</td>\n",
       "      <td>[1, 6, 6]</td>\n",
       "      <td>[0.0, 0.0, 0.0, 0.0, 0.0, 0.0, 0.0, 0.0, 0.0, ...</td>\n",
       "    </tr>\n",
       "  </tbody>\n",
       "</table>\n",
       "<p>894054 rows × 5 columns</p>\n",
       "</div>"
      ],
      "text/plain": [
       "        user_id  movie_id  rating    user_inf  \\\n",
       "416292     2507      3035       2   [1, 6, 4]   \n",
       "683230     4087      2840       4   [1, 0, 4]   \n",
       "2434         19       457       3  [1, 0, 10]   \n",
       "688533     4118      2804       4   [1, 6, 3]   \n",
       "472584     2907       805       4   [0, 1, 5]   \n",
       "...         ...       ...     ...         ...   \n",
       "93882      6040      3896       3   [1, 6, 6]   \n",
       "93883      6040      3897       3   [1, 6, 6]   \n",
       "93884      6040      3898       3   [1, 6, 6]   \n",
       "93885      6040      3899       3   [1, 6, 6]   \n",
       "93886      6040      3900       4   [1, 6, 6]   \n",
       "\n",
       "                                                movie_inf  \n",
       "416292  [0.0, 0.0, 0.0, 0.0, 1.0, 0.0, 0.0, 1.0, 0.0, ...  \n",
       "683230  [0.0, 0.0, 0.0, 0.0, 0.0, 0.0, 0.0, 0.0, 0.0, ...  \n",
       "2434    [1.0, 0.0, 0.0, 0.0, 0.0, 0.0, 0.0, 0.0, 0.0, ...  \n",
       "688533  [0.0, 0.0, 0.0, 0.0, 1.0, 0.0, 0.0, 1.0, 0.0, ...  \n",
       "472584  [0.0, 0.0, 0.0, 0.0, 0.0, 0.0, 0.0, 1.0, 0.0, ...  \n",
       "...                                                   ...  \n",
       "93882   [0.0, 0.0, 0.0, 0.0, 0.0, 0.0, 0.0, 0.0, 0.0, ...  \n",
       "93883   [0.0, 0.0, 0.0, 0.0, 0.0, 0.0, 0.0, 0.0, 0.0, ...  \n",
       "93884   [0.0, 0.0, 0.0, 0.0, 0.0, 0.0, 0.0, 0.0, 0.0, ...  \n",
       "93885   [0.0, 0.0, 0.0, 0.0, 0.0, 0.0, 0.0, 0.0, 0.0, ...  \n",
       "93886   [0.0, 0.0, 0.0, 0.0, 0.0, 0.0, 0.0, 0.0, 0.0, ...  \n",
       "\n",
       "[894054 rows x 5 columns]"
      ]
     },
     "execution_count": 148,
     "metadata": {},
     "output_type": "execute_result"
    }
   ],
   "source": [
    "train1 = pd.concat((train,user_prof1))\n",
    "train1"
   ]
  },
  {
   "attachments": {},
   "cell_type": "markdown",
   "metadata": {},
   "source": [
    "NEURAL NETWORK BUILDING"
   ]
  },
  {
   "cell_type": "code",
   "execution_count": 149,
   "metadata": {},
   "outputs": [],
   "source": [
    "from sklearn.model_selection import train_test_split\n",
    "from keras.models import Model\n",
    "from keras.layers import Input, Embedding, Flatten, Dense, Concatenate\n",
    "import tensorflow as tf\n",
    "     \n",
    "#Creating movie embedding path\n",
    "movie_input = Input(shape = (1,), name = \"Movie-Input\")\n",
    "movie_embedding = Embedding(n_movies + 1, 10, name= \"Movie-Embedding\")(movie_input)\n",
    "movie_vec = Flatten(name = \"Flatten-Movies\")(movie_embedding)\n",
    "\n",
    "#Creating user embedding path\n",
    "user_input = Input(shape = (1,), name = \"User-Input\")\n",
    "user_embedding = Embedding(n_users + 1, 10, name = \"User-Embedding\")(user_input)\n",
    "user_vec = Flatten(name = \"Flatten-Users\")(user_embedding)\n",
    "\n",
    "#creating movie_inf embedding path\n",
    "genres_input = Input(shape = (18,), name = \"Genres-Input\")\n",
    "genres_embedding = Embedding(18, 5, name = \"Genres-Embedding\")(genres_input)\n",
    "genres_vec = Flatten(name = \"Flatten-Genres\")(genres_embedding)\n",
    "\n",
    "\n",
    "# Creating user_inf path\n",
    "user_inf_input = Input(shape = (3,), name = \"User_inf-Input\")\n",
    "# tf.convert_to_tensor(user_inf_input)\n",
    "# user_inf_embedding = Embedding(n_users + 1, 10, name = \"User_inf-Embedding\")(user_inf_input)\n",
    "user_inf_vec = Flatten(name = \"Flatten_inf-Users\")(user_inf_input)\n",
    "\n",
    "#Concatenate features\n",
    "conc = Concatenate()([movie_vec, user_vec, user_inf_vec, genres_vec])\n",
    "\n",
    "#Weight Initialization\n",
    "initializer = tf.keras.initializers.RandomUniform(minval=0., maxval=1., seed = None)\n",
    "\n",
    "#Add fully-connected-layers\n",
    "fc1 = Dense(128, activation='relu')(conc)\n",
    "fc2 = Dense(100, activation='relu')(fc1)\n",
    "fc3 = Dense(80, activation='relu')(fc2)\n",
    "fc4 = Dense(60, activation='relu')(fc3)\n",
    "fc5 = Dense(32, activation='relu')(fc4)\n",
    "out = Dense(1)(fc5)\n",
    "\n",
    "#Create model and compile it\n",
    "model = Model([[user_input, movie_input], user_inf_input,genres_input], out)\n",
    "model.compile('adam', 'mean_squared_error')"
   ]
  },
  {
   "cell_type": "code",
   "execution_count": 150,
   "metadata": {},
   "outputs": [
    {
     "name": "stdout",
     "output_type": "stream",
     "text": [
      "Model: \"model_2\"\n",
      "__________________________________________________________________________________________________\n",
      " Layer (type)                   Output Shape         Param #     Connected to                     \n",
      "==================================================================================================\n",
      " Movie-Input (InputLayer)       [(None, 1)]          0           []                               \n",
      "                                                                                                  \n",
      " User-Input (InputLayer)        [(None, 1)]          0           []                               \n",
      "                                                                                                  \n",
      " Genres-Input (InputLayer)      [(None, 18)]         0           []                               \n",
      "                                                                                                  \n",
      " Movie-Embedding (Embedding)    (None, 1, 10)        37070       ['Movie-Input[0][0]']            \n",
      "                                                                                                  \n",
      " User-Embedding (Embedding)     (None, 1, 10)        60410       ['User-Input[0][0]']             \n",
      "                                                                                                  \n",
      " User_inf-Input (InputLayer)    [(None, 3)]          0           []                               \n",
      "                                                                                                  \n",
      " Genres-Embedding (Embedding)   (None, 18, 5)        90          ['Genres-Input[0][0]']           \n",
      "                                                                                                  \n",
      " Flatten-Movies (Flatten)       (None, 10)           0           ['Movie-Embedding[0][0]']        \n",
      "                                                                                                  \n",
      " Flatten-Users (Flatten)        (None, 10)           0           ['User-Embedding[0][0]']         \n",
      "                                                                                                  \n",
      " Flatten_inf-Users (Flatten)    (None, 3)            0           ['User_inf-Input[0][0]']         \n",
      "                                                                                                  \n",
      " Flatten-Genres (Flatten)       (None, 90)           0           ['Genres-Embedding[0][0]']       \n",
      "                                                                                                  \n",
      " concatenate_2 (Concatenate)    (None, 113)          0           ['Flatten-Movies[0][0]',         \n",
      "                                                                  'Flatten-Users[0][0]',          \n",
      "                                                                  'Flatten_inf-Users[0][0]',      \n",
      "                                                                  'Flatten-Genres[0][0]']         \n",
      "                                                                                                  \n",
      " dense_12 (Dense)               (None, 128)          14592       ['concatenate_2[0][0]']          \n",
      "                                                                                                  \n",
      " dense_13 (Dense)               (None, 100)          12900       ['dense_12[0][0]']               \n",
      "                                                                                                  \n",
      " dense_14 (Dense)               (None, 80)           8080        ['dense_13[0][0]']               \n",
      "                                                                                                  \n",
      " dense_15 (Dense)               (None, 60)           4860        ['dense_14[0][0]']               \n",
      "                                                                                                  \n",
      " dense_16 (Dense)               (None, 32)           1952        ['dense_15[0][0]']               \n",
      "                                                                                                  \n",
      " dense_17 (Dense)               (None, 1)            33          ['dense_16[0][0]']               \n",
      "                                                                                                  \n",
      "==================================================================================================\n",
      "Total params: 139,987\n",
      "Trainable params: 139,987\n",
      "Non-trainable params: 0\n",
      "__________________________________________________________________________________________________\n"
     ]
    }
   ],
   "source": [
    "model.summary()"
   ]
  },
  {
   "cell_type": "code",
   "execution_count": 151,
   "metadata": {},
   "outputs": [
    {
     "data": {
      "image/png": "[encoded data removed]",
      "text/plain": [
       "<IPython.core.display.Image object>"
      ]
     },
     "execution_count": 151,
     "metadata": {},
     "output_type": "execute_result"
    }
   ],
   "source": [
    "from keras.utils.vis_utils import plot_model\n",
    "plot_model(model, rankdir= 'TR', dpi = 100)"
   ]
  },
  {
   "cell_type": "code",
   "execution_count": 152,
   "metadata": {},
   "outputs": [
    {
     "name": "stdout",
     "output_type": "stream",
     "text": [
      "(None, 1) <dtype: 'float32'>\n",
      "(None, 1) <dtype: 'float32'>\n",
      "(None, 3) <dtype: 'float32'>\n",
      "(None, 18) <dtype: 'float32'>\n"
     ]
    },
    {
     "data": {
      "text/plain": [
       "[None, None, None, None]"
      ]
     },
     "execution_count": 152,
     "metadata": {},
     "output_type": "execute_result"
    }
   ],
   "source": [
    "[print(i.shape, i.dtype) for i in model.inputs]"
   ]
  },
  {
   "cell_type": "code",
   "execution_count": 153,
   "metadata": {},
   "outputs": [
    {
     "data": {
      "text/plain": [
       "416292     [1, 6, 4]\n",
       "683230     [1, 0, 4]\n",
       "2434      [1, 0, 10]\n",
       "688533     [1, 6, 3]\n",
       "472584     [0, 1, 5]\n",
       "             ...    \n",
       "259178     [1, 2, 7]\n",
       "365838     [1, 6, 5]\n",
       "131932    [0, 6, 16]\n",
       "671155     [1, 6, 6]\n",
       "121958     [1, 6, 0]\n",
       "Name: user_inf, Length: 800167, dtype: object"
      ]
     },
     "execution_count": 153,
     "metadata": {},
     "output_type": "execute_result"
    }
   ],
   "source": [
    "train.user_inf"
   ]
  },
  {
   "cell_type": "code",
   "execution_count": 154,
   "metadata": {},
   "outputs": [
    {
     "data": {
      "text/plain": [
       "(800167, 18)"
      ]
     },
     "execution_count": 154,
     "metadata": {},
     "output_type": "execute_result"
    }
   ],
   "source": [
    "np.array([np.array(val) for val in train.user_inf]).shape\n",
    "np.array([np.array(val) for val in train.movie_inf]).shape"
   ]
  },
  {
   "cell_type": "code",
   "execution_count": 155,
   "metadata": {},
   "outputs": [
    {
     "data": {
      "text/plain": [
       "(800167,)"
      ]
     },
     "execution_count": 155,
     "metadata": {},
     "output_type": "execute_result"
    }
   ],
   "source": [
    "train.movie_id.shape"
   ]
  },
  {
   "cell_type": "code",
   "execution_count": 156,
   "metadata": {},
   "outputs": [
    {
     "name": "stdout",
     "output_type": "stream",
     "text": [
      "Epoch 1/18\n",
      "25006/25006 [==============================] - 220s 9ms/step - loss: 0.8912\n",
      "Epoch 2/18\n",
      "25006/25006 [==============================] - 231s 9ms/step - loss: 0.8180\n",
      "Epoch 3/18\n",
      "25006/25006 [==============================] - 240s 10ms/step - loss: 0.7923\n",
      "Epoch 4/18\n",
      "25006/25006 [==============================] - 250s 10ms/step - loss: 0.7695\n",
      "Epoch 5/18\n",
      "25006/25006 [==============================] - 254s 10ms/step - loss: 0.7525\n",
      "Epoch 6/18\n",
      "25006/25006 [==============================] - 257s 10ms/step - loss: 0.7384\n",
      "Epoch 7/18\n",
      "25006/25006 [==============================] - 240s 10ms/step - loss: 0.7257\n",
      "Epoch 8/18\n",
      "25006/25006 [==============================] - 266s 11ms/step - loss: 0.7157\n",
      "Epoch 9/18\n",
      "25006/25006 [==============================] - 289s 12ms/step - loss: 0.7071\n",
      "Epoch 10/18\n",
      "25006/25006 [==============================] - 288s 12ms/step - loss: 0.6996\n",
      "Epoch 11/18\n",
      "25006/25006 [==============================] - 292s 12ms/step - loss: 0.6926\n",
      "Epoch 12/18\n",
      "25006/25006 [==============================] - 294s 12ms/step - loss: 0.6852\n",
      "Epoch 13/18\n",
      "25006/25006 [==============================] - 282s 11ms/step - loss: 0.6786\n",
      "Epoch 14/18\n",
      "25006/25006 [==============================] - 246s 10ms/step - loss: 0.6722\n",
      "Epoch 15/18\n",
      "25006/25006 [==============================] - 248s 10ms/step - loss: 0.6661\n",
      "Epoch 16/18\n",
      "25006/25006 [==============================] - 247s 10ms/step - loss: 0.6605\n",
      "Epoch 17/18\n",
      "25006/25006 [==============================] - 251s 10ms/step - loss: 0.6550\n",
      "Epoch 18/18\n",
      "25006/25006 [==============================] - 239s 10ms/step - loss: 0.6505\n"
     ]
    }
   ],
   "source": [
    "history = model.fit([[train.user_id, train.movie_id],np.array([np.array(val) for val in train.user_inf]), np.array([np.array(val) for val in train.movie_inf])], train.rating, epochs = 18, verbose = 1)"
   ]
  },
  {
   "cell_type": "code",
   "execution_count": 157,
   "metadata": {},
   "outputs": [
    {
     "name": "stderr",
     "output_type": "stream",
     "text": [
      "WARNING:absl:Function `_wrapped_model` contains input name(s) User-Input, Movie-Input, User_inf-Input, Genres-Input with unsupported characters which will be renamed to user_input, movie_input, user_inf_input, genres_input in the SavedModel.\n"
     ]
    },
    {
     "name": "stdout",
     "output_type": "stream",
     "text": [
      "INFO:tensorflow:Assets written to: Neural_RS\\assets\n"
     ]
    },
    {
     "name": "stderr",
     "output_type": "stream",
     "text": [
      "INFO:tensorflow:Assets written to: Neural_RS\\assets\n"
     ]
    }
   ],
   "source": [
    "model.save('Neural_RS')"
   ]
  },
  {
   "cell_type": "code",
   "execution_count": 158,
   "metadata": {},
   "outputs": [],
   "source": [
    "from keras.models import load_model\n",
    "model = load_model(\"Neural_RS\")"
   ]
  },
  {
   "cell_type": "code",
   "execution_count": 159,
   "metadata": {},
   "outputs": [
    {
     "data": {
      "text/plain": [
       "array([ 1,  2,  3,  4,  5,  6,  7,  8,  9, 10])"
      ]
     },
     "execution_count": 159,
     "metadata": {},
     "output_type": "execute_result"
    }
   ],
   "source": [
    "item_data = np.array(list(set(ratings.movie_id)))\n",
    "item_data[:10]"
   ]
  },
  {
   "cell_type": "code",
   "execution_count": 160,
   "metadata": {},
   "outputs": [
    {
     "data": {
      "text/plain": [
       "array([1, 1, 1, 1, 1, 1, 1, 1, 1, 1])"
      ]
     },
     "execution_count": 160,
     "metadata": {},
     "output_type": "execute_result"
    }
   ],
   "source": [
    "user = np.array([1 for i in range(len(item_data))])\n",
    "user[:10]"
   ]
  },
  {
   "cell_type": "code",
   "execution_count": 161,
   "metadata": {},
   "outputs": [
    {
     "data": {
      "text/plain": [
       "array([[ 0,  0, 10],\n",
       "       [ 0,  0, 10],\n",
       "       [ 0,  0, 10],\n",
       "       ...,\n",
       "       [ 0,  0, 10],\n",
       "       [ 0,  0, 10],\n",
       "       [ 0,  0, 10]])"
      ]
     },
     "execution_count": 161,
     "metadata": {},
     "output_type": "execute_result"
    }
   ],
   "source": [
    "user_inf_pre = np.array([np.array([0, 0, 10]) for i in range(len(item_data))])\n",
    "user_inf_pre"
   ]
  },
  {
   "cell_type": "code",
   "execution_count": 162,
   "metadata": {},
   "outputs": [
    {
     "data": {
      "text/plain": [
       "array([0., 0., 1., 1., 0., 0., 0., 0., 0., 0., 0., 1., 0., 0., 0., 0., 0.,\n",
       "       0.])"
      ]
     },
     "execution_count": 162,
     "metadata": {},
     "output_type": "execute_result"
    }
   ],
   "source": [
    "train.movie_inf[1]"
   ]
  },
  {
   "cell_type": "code",
   "execution_count": 163,
   "metadata": {},
   "outputs": [
    {
     "data": {
      "text/plain": [
       "array([[0., 0., 1., ..., 0., 0., 0.],\n",
       "       [0., 1., 0., ..., 0., 0., 0.],\n",
       "       [0., 0., 0., ..., 0., 0., 0.],\n",
       "       ...,\n",
       "       [0., 0., 0., ..., 0., 0., 0.],\n",
       "       [0., 0., 0., ..., 0., 0., 0.],\n",
       "       [0., 0., 0., ..., 1., 0., 0.]])"
      ]
     },
     "execution_count": 163,
     "metadata": {},
     "output_type": "execute_result"
    }
   ],
   "source": [
    "movie_inf_pre = np.array([np.array(movies_map[i]) for i in item_data])\n",
    "movie_inf_pre\n",
    "\n"
   ]
  },
  {
   "cell_type": "code",
   "execution_count": 164,
   "metadata": {},
   "outputs": [
    {
     "data": {
      "text/plain": [
       "array([[4.74533  ],\n",
       "       [3.932951 ],\n",
       "       [3.7912314],\n",
       "       ...,\n",
       "       [3.58469  ],\n",
       "       [3.58469  ],\n",
       "       [3.48578  ]], dtype=float32)"
      ]
     },
     "execution_count": 164,
     "metadata": {},
     "output_type": "execute_result"
    }
   ],
   "source": [
    "predictions = model.predict([[user,item_data],user_inf_pre,movie_inf_pre])\n",
    "predictions"
   ]
  },
  {
   "cell_type": "code",
   "execution_count": 165,
   "metadata": {},
   "outputs": [
    {
     "data": {
      "text/plain": [
       "array([ 282,  369, 1896, 2672,  368, 2479, 3491, 3469, 3641, 1385],\n",
       "      dtype=int64)"
      ]
     },
     "execution_count": 165,
     "metadata": {},
     "output_type": "execute_result"
    }
   ],
   "source": [
    "predictions = np.array([a[0] for a in predictions])\n",
    "recommended_movie = predictions[::-1].argsort()[:10]\n",
    "recommended_movie\n"
   ]
  },
  {
   "cell_type": "code",
   "execution_count": 166,
   "metadata": {},
   "outputs": [
    {
     "data": {
      "text/html": [
       "<div>\n",
       "<style scoped>\n",
       "    .dataframe tbody tr th:only-of-type {\n",
       "        vertical-align: middle;\n",
       "    }\n",
       "\n",
       "    .dataframe tbody tr th {\n",
       "        vertical-align: top;\n",
       "    }\n",
       "\n",
       "    .dataframe thead th {\n",
       "        text-align: right;\n",
       "    }\n",
       "</style>\n",
       "<table border=\"1\" class=\"dataframe\">\n",
       "  <thead>\n",
       "    <tr style=\"text-align: right;\">\n",
       "      <th></th>\n",
       "      <th>movie_id</th>\n",
       "      <th>title</th>\n",
       "      <th>genres</th>\n",
       "    </tr>\n",
       "  </thead>\n",
       "  <tbody>\n",
       "    <tr>\n",
       "      <th>279</th>\n",
       "      <td>282</td>\n",
       "      <td>Nell (1994)</td>\n",
       "      <td>Drama</td>\n",
       "    </tr>\n",
       "    <tr>\n",
       "      <th>364</th>\n",
       "      <td>368</td>\n",
       "      <td>Maverick (1994)</td>\n",
       "      <td>Action|Comedy|Western</td>\n",
       "    </tr>\n",
       "    <tr>\n",
       "      <th>365</th>\n",
       "      <td>369</td>\n",
       "      <td>Mrs. Parker and the Vicious Circle (1994)</td>\n",
       "      <td>Drama</td>\n",
       "    </tr>\n",
       "    <tr>\n",
       "      <th>1364</th>\n",
       "      <td>1385</td>\n",
       "      <td>Under Siege (1992)</td>\n",
       "      <td>Action</td>\n",
       "    </tr>\n",
       "    <tr>\n",
       "      <th>1827</th>\n",
       "      <td>1896</td>\n",
       "      <td>Cousin Bette (1998)</td>\n",
       "      <td>Comedy</td>\n",
       "    </tr>\n",
       "    <tr>\n",
       "      <th>2410</th>\n",
       "      <td>2479</td>\n",
       "      <td>Gloria (1999)</td>\n",
       "      <td>Drama|Thriller</td>\n",
       "    </tr>\n",
       "    <tr>\n",
       "      <th>2603</th>\n",
       "      <td>2672</td>\n",
       "      <td>Thirteenth Floor, The (1999)</td>\n",
       "      <td>Drama|Sci-Fi|Thriller</td>\n",
       "    </tr>\n",
       "    <tr>\n",
       "      <th>3400</th>\n",
       "      <td>3469</td>\n",
       "      <td>Inherit the Wind (1960)</td>\n",
       "      <td>Drama</td>\n",
       "    </tr>\n",
       "    <tr>\n",
       "      <th>3422</th>\n",
       "      <td>3491</td>\n",
       "      <td>My Chauffeur (1986)</td>\n",
       "      <td>Comedy</td>\n",
       "    </tr>\n",
       "    <tr>\n",
       "      <th>3572</th>\n",
       "      <td>3641</td>\n",
       "      <td>Woman of Paris, A (1923)</td>\n",
       "      <td>Drama</td>\n",
       "    </tr>\n",
       "  </tbody>\n",
       "</table>\n",
       "</div>"
      ],
      "text/plain": [
       "      movie_id                                      title  \\\n",
       "279        282                                Nell (1994)   \n",
       "364        368                            Maverick (1994)   \n",
       "365        369  Mrs. Parker and the Vicious Circle (1994)   \n",
       "1364      1385                         Under Siege (1992)   \n",
       "1827      1896                        Cousin Bette (1998)   \n",
       "2410      2479                              Gloria (1999)   \n",
       "2603      2672               Thirteenth Floor, The (1999)   \n",
       "3400      3469                    Inherit the Wind (1960)   \n",
       "3422      3491                        My Chauffeur (1986)   \n",
       "3572      3641                   Woman of Paris, A (1923)   \n",
       "\n",
       "                     genres  \n",
       "279                   Drama  \n",
       "364   Action|Comedy|Western  \n",
       "365                   Drama  \n",
       "1364                 Action  \n",
       "1827                 Comedy  \n",
       "2410         Drama|Thriller  \n",
       "2603  Drama|Sci-Fi|Thriller  \n",
       "3400                  Drama  \n",
       "3422                 Comedy  \n",
       "3572                  Drama  "
      ]
     },
     "execution_count": 166,
     "metadata": {},
     "output_type": "execute_result"
    }
   ],
   "source": [
    "movies[movies['movie_id'].isin(recommended_movie)]"
   ]
  },
  {
   "cell_type": "code",
   "execution_count": 167,
   "metadata": {},
   "outputs": [
    {
     "name": "stdout",
     "output_type": "stream",
     "text": [
      "6252/6252 [==============================] - 21s 3ms/step - loss: 0.7670\n"
     ]
    },
    {
     "data": {
      "text/plain": [
       "0.7669686079025269"
      ]
     },
     "execution_count": 167,
     "metadata": {},
     "output_type": "execute_result"
    }
   ],
   "source": [
    "model.evaluate([[test.user_id, test.movie_id], np.array([np.array(val) for val in test.user_inf]), np.array([np.array(val) for val in test.movie_inf]) ], test.rating)"
   ]
  }
 ],
 "metadata": {
  "kernelspec": {
   "display_name": "GPU",
   "language": "python",
   "name": "python3"
  },
  "language_info": {
   "codemirror_mode": {
    "name": "ipython",
    "version": 3
   },
   "file_extension": ".py",
   "mimetype": "text/x-python",
   "name": "python",
   "nbconvert_exporter": "python",
   "pygments_lexer": "ipython3",
   "version": "3.10.8"
  },
  "orig_nbformat": 4
 },
 "nbformat": 4,
 "nbformat_minor": 2
}
