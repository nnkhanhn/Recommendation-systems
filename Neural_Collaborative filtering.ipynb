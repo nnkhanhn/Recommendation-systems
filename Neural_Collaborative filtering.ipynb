{
 "cells": [
  {
   "cell_type": "code",
   "execution_count": 1,
   "metadata": {},
   "outputs": [],
   "source": [
    "from data_loader import dataloader\n",
    "import os\n",
    "import re\n",
    "import pickle\n",
    "import hashlib\n",
    "import zipfile\n",
    "import numpy as np\n",
    "import pandas as pd\n",
    "import tensorflow as tf\n",
    "from tqdm import tqdm\n",
    "from collections import Counter\n",
    "from os.path import isfile, isdir\n",
    "from urllib.request import urlretrieve\n",
    "from tensorflow.python.ops import math_ops\n",
    "from sklearn.model_selection import train_test_split"
   ]
  },
  {
   "cell_type": "code",
   "execution_count": 2,
   "metadata": {},
   "outputs": [
    {
     "data": {
      "text/plain": [
       "'2.8.0'"
      ]
     },
     "execution_count": 2,
     "metadata": {},
     "output_type": "execute_result"
    }
   ],
   "source": [
    "tf.__version__"
   ]
  },
  {
   "attachments": {},
   "cell_type": "markdown",
   "metadata": {},
   "source": [
    "PREPROCESSING"
   ]
  },
  {
   "cell_type": "code",
   "execution_count": 3,
   "metadata": {},
   "outputs": [
    {
     "name": "stdout",
     "output_type": "stream",
     "text": [
      "   user_id gender  age  occupation    zip\n",
      "0        1      F    1          10  48067\n",
      "1        2      M   56          16  70072\n",
      "2        3      M   25          15  55117\n",
      "3        4      M   45           7  02460\n",
      "4        5      M   25          20  55455\n",
      "   movie_id                               title                        genres\n",
      "0         1                    Toy Story (1995)   Animation|Children's|Comedy\n",
      "1         2                      Jumanji (1995)  Adventure|Children's|Fantasy\n",
      "2         3             Grumpier Old Men (1995)                Comedy|Romance\n",
      "3         4            Waiting to Exhale (1995)                  Comedy|Drama\n",
      "4         5  Father of the Bride Part II (1995)                        Comedy\n",
      "   user_id  movie_id  rating  timestamp\n",
      "0        1      1193       5  978300760\n",
      "1        1       661       3  978302109\n",
      "2        1       914       3  978301968\n",
      "3        1      3408       4  978300275\n",
      "4        1      2355       5  978824291\n"
     ]
    }
   ],
   "source": [
    "user,ratings,movies = dataloader()\n",
    "print(user.head())\n",
    "print(movies.head())\n",
    "print(ratings.head())"
   ]
  },
  {
   "cell_type": "code",
   "execution_count": 4,
   "metadata": {},
   "outputs": [
    {
     "name": "stdout",
     "output_type": "stream",
     "text": [
      "         user_id  movie_id  rating\n",
      "0              1      1193       5\n",
      "1              1       661       3\n",
      "2              1       914       3\n",
      "3              1      3408       4\n",
      "4              1      2355       5\n",
      "...          ...       ...     ...\n",
      "1000204     6040      1091       1\n",
      "1000205     6040      1094       5\n",
      "1000206     6040       562       5\n",
      "1000207     6040      1096       4\n",
      "1000208     6040      1097       4\n",
      "\n",
      "[1000209 rows x 3 columns]\n"
     ]
    }
   ],
   "source": [
    "ratings = ratings.filter(regex=('user_id|movie_id|rating'))\n",
    "print(ratings)"
   ]
  },
  {
   "cell_type": "code",
   "execution_count": 5,
   "metadata": {},
   "outputs": [
    {
     "name": "stdout",
     "output_type": "stream",
     "text": [
      "No of unique users: 6040\n",
      "No of unique movies:  3706 \n",
      "\n"
     ]
    }
   ],
   "source": [
    "n_users = len(ratings.user_id.unique())\n",
    "n_movies = len(ratings.movie_id.unique())\n",
    "print(\"No of unique users:\", n_users)\n",
    "print(\"No of unique movies: \", n_movies, \"\\n\")"
   ]
  },
  {
   "cell_type": "code",
   "execution_count": 6,
   "metadata": {},
   "outputs": [],
   "source": [
    "gender_map = {'F':0, 'M':1}\n",
    "user['gender'] = user['gender'].map(gender_map)\n",
    "age_map = {val:idx for idx, val in enumerate(set(user['age']))}\n",
    "user['age'] = user['age'].map(age_map)\n",
    "users = user.filter(regex='user_id|gender|age|occupation')\n",
    "users['user_inf'] = users.apply(lambda x: list([x['gender'],\n",
    "                                        x['age'],\n",
    "                                        x['occupation']]),axis=1) \n",
    "user_map = {}\n",
    "for i in range(len(users['user_id'])):\n",
    "    k = {users.iloc[i]['user_id']: np.array(users.iloc[i]['user_inf'])}\n",
    "    user_map.update(k)"
   ]
  },
  {
   "cell_type": "code",
   "execution_count": 7,
   "metadata": {},
   "outputs": [
    {
     "data": {
      "text/html": [
       "<div>\n",
       "<style scoped>\n",
       "    .dataframe tbody tr th:only-of-type {\n",
       "        vertical-align: middle;\n",
       "    }\n",
       "\n",
       "    .dataframe tbody tr th {\n",
       "        vertical-align: top;\n",
       "    }\n",
       "\n",
       "    .dataframe thead th {\n",
       "        text-align: right;\n",
       "    }\n",
       "</style>\n",
       "<table border=\"1\" class=\"dataframe\">\n",
       "  <thead>\n",
       "    <tr style=\"text-align: right;\">\n",
       "      <th></th>\n",
       "      <th>user_id</th>\n",
       "      <th>movie_id</th>\n",
       "      <th>rating</th>\n",
       "      <th>user_inf</th>\n",
       "    </tr>\n",
       "  </thead>\n",
       "  <tbody>\n",
       "    <tr>\n",
       "      <th>0</th>\n",
       "      <td>1</td>\n",
       "      <td>1193</td>\n",
       "      <td>5</td>\n",
       "      <td>[0, 0, 10]</td>\n",
       "    </tr>\n",
       "    <tr>\n",
       "      <th>1</th>\n",
       "      <td>1</td>\n",
       "      <td>661</td>\n",
       "      <td>3</td>\n",
       "      <td>[0, 0, 10]</td>\n",
       "    </tr>\n",
       "    <tr>\n",
       "      <th>2</th>\n",
       "      <td>1</td>\n",
       "      <td>914</td>\n",
       "      <td>3</td>\n",
       "      <td>[0, 0, 10]</td>\n",
       "    </tr>\n",
       "    <tr>\n",
       "      <th>3</th>\n",
       "      <td>1</td>\n",
       "      <td>3408</td>\n",
       "      <td>4</td>\n",
       "      <td>[0, 0, 10]</td>\n",
       "    </tr>\n",
       "    <tr>\n",
       "      <th>4</th>\n",
       "      <td>1</td>\n",
       "      <td>2355</td>\n",
       "      <td>5</td>\n",
       "      <td>[0, 0, 10]</td>\n",
       "    </tr>\n",
       "    <tr>\n",
       "      <th>...</th>\n",
       "      <td>...</td>\n",
       "      <td>...</td>\n",
       "      <td>...</td>\n",
       "      <td>...</td>\n",
       "    </tr>\n",
       "    <tr>\n",
       "      <th>1000204</th>\n",
       "      <td>6040</td>\n",
       "      <td>1091</td>\n",
       "      <td>1</td>\n",
       "      <td>[1, 6, 6]</td>\n",
       "    </tr>\n",
       "    <tr>\n",
       "      <th>1000205</th>\n",
       "      <td>6040</td>\n",
       "      <td>1094</td>\n",
       "      <td>5</td>\n",
       "      <td>[1, 6, 6]</td>\n",
       "    </tr>\n",
       "    <tr>\n",
       "      <th>1000206</th>\n",
       "      <td>6040</td>\n",
       "      <td>562</td>\n",
       "      <td>5</td>\n",
       "      <td>[1, 6, 6]</td>\n",
       "    </tr>\n",
       "    <tr>\n",
       "      <th>1000207</th>\n",
       "      <td>6040</td>\n",
       "      <td>1096</td>\n",
       "      <td>4</td>\n",
       "      <td>[1, 6, 6]</td>\n",
       "    </tr>\n",
       "    <tr>\n",
       "      <th>1000208</th>\n",
       "      <td>6040</td>\n",
       "      <td>1097</td>\n",
       "      <td>4</td>\n",
       "      <td>[1, 6, 6]</td>\n",
       "    </tr>\n",
       "  </tbody>\n",
       "</table>\n",
       "<p>1000209 rows × 4 columns</p>\n",
       "</div>"
      ],
      "text/plain": [
       "         user_id  movie_id  rating    user_inf\n",
       "0              1      1193       5  [0, 0, 10]\n",
       "1              1       661       3  [0, 0, 10]\n",
       "2              1       914       3  [0, 0, 10]\n",
       "3              1      3408       4  [0, 0, 10]\n",
       "4              1      2355       5  [0, 0, 10]\n",
       "...          ...       ...     ...         ...\n",
       "1000204     6040      1091       1   [1, 6, 6]\n",
       "1000205     6040      1094       5   [1, 6, 6]\n",
       "1000206     6040       562       5   [1, 6, 6]\n",
       "1000207     6040      1096       4   [1, 6, 6]\n",
       "1000208     6040      1097       4   [1, 6, 6]\n",
       "\n",
       "[1000209 rows x 4 columns]"
      ]
     },
     "execution_count": 7,
     "metadata": {},
     "output_type": "execute_result"
    }
   ],
   "source": [
    "ratings['user_inf'] = ratings.loc[:, 'user_id']\n",
    "ratings['user_inf'] = ratings['user_inf'].map(user_map)\n",
    "ratings"
   ]
  },
  {
   "cell_type": "code",
   "execution_count": 8,
   "metadata": {},
   "outputs": [
    {
     "name": "stdout",
     "output_type": "stream",
     "text": [
      "{'Thriller': 0, 'Crime': 1, \"Children's\": 2, 'Fantasy': 3, 'Musical': 4, 'Comedy': 5, 'Horror': 6, 'Documentary': 7, 'Western': 8, 'Animation': 9, 'Action': 10, 'Mystery': 11, 'Drama': 12, 'Adventure': 13, 'War': 14, 'Film-Noir': 15, 'Romance': 16, 'Sci-Fi': 17}\n"
     ]
    }
   ],
   "source": [
    "genres_set = set()\n",
    "for val in movies['genres'].str.split('|'):\n",
    "    genres_set.update(val)\n",
    "genres_set = list(genres_set)\n",
    "genre_index_by_name = {name:i for i, name in enumerate(genres_set)}\n",
    "print(genre_index_by_name)\n",
    "# print(type(movie_index_by_id[1]))\n",
    "movies_map = {}\n",
    "movie_features = np.zeros((len(movies), len(genres_set)))\n",
    "for i in range(len(movies)):\n",
    "    for genre in movies.iloc[i]['genres'].split(\"|\"):        \n",
    "        genre_index = genre_index_by_name[genre]\n",
    "        movie_features[i, genre_index] = 1\n",
    "    k = {movies.iloc[i]['movie_id']: movie_features[i]}\n",
    "    movies_map.update(k)"
   ]
  },
  {
   "cell_type": "code",
   "execution_count": 9,
   "metadata": {},
   "outputs": [
    {
     "data": {
      "text/html": [
       "<div>\n",
       "<style scoped>\n",
       "    .dataframe tbody tr th:only-of-type {\n",
       "        vertical-align: middle;\n",
       "    }\n",
       "\n",
       "    .dataframe tbody tr th {\n",
       "        vertical-align: top;\n",
       "    }\n",
       "\n",
       "    .dataframe thead th {\n",
       "        text-align: right;\n",
       "    }\n",
       "</style>\n",
       "<table border=\"1\" class=\"dataframe\">\n",
       "  <thead>\n",
       "    <tr style=\"text-align: right;\">\n",
       "      <th></th>\n",
       "      <th>user_id</th>\n",
       "      <th>movie_id</th>\n",
       "      <th>rating</th>\n",
       "      <th>user_inf</th>\n",
       "      <th>movie_inf</th>\n",
       "    </tr>\n",
       "  </thead>\n",
       "  <tbody>\n",
       "    <tr>\n",
       "      <th>0</th>\n",
       "      <td>1</td>\n",
       "      <td>1193</td>\n",
       "      <td>5</td>\n",
       "      <td>[0, 0, 10]</td>\n",
       "      <td>[0.0, 0.0, 0.0, 0.0, 0.0, 0.0, 0.0, 0.0, 0.0, ...</td>\n",
       "    </tr>\n",
       "    <tr>\n",
       "      <th>1</th>\n",
       "      <td>1</td>\n",
       "      <td>661</td>\n",
       "      <td>3</td>\n",
       "      <td>[0, 0, 10]</td>\n",
       "      <td>[0.0, 0.0, 1.0, 0.0, 1.0, 0.0, 0.0, 0.0, 0.0, ...</td>\n",
       "    </tr>\n",
       "    <tr>\n",
       "      <th>2</th>\n",
       "      <td>1</td>\n",
       "      <td>914</td>\n",
       "      <td>3</td>\n",
       "      <td>[0, 0, 10]</td>\n",
       "      <td>[0.0, 0.0, 0.0, 0.0, 1.0, 0.0, 0.0, 0.0, 0.0, ...</td>\n",
       "    </tr>\n",
       "    <tr>\n",
       "      <th>3</th>\n",
       "      <td>1</td>\n",
       "      <td>3408</td>\n",
       "      <td>4</td>\n",
       "      <td>[0, 0, 10]</td>\n",
       "      <td>[0.0, 0.0, 0.0, 0.0, 0.0, 0.0, 0.0, 0.0, 0.0, ...</td>\n",
       "    </tr>\n",
       "    <tr>\n",
       "      <th>4</th>\n",
       "      <td>1</td>\n",
       "      <td>2355</td>\n",
       "      <td>5</td>\n",
       "      <td>[0, 0, 10]</td>\n",
       "      <td>[0.0, 0.0, 1.0, 0.0, 0.0, 1.0, 0.0, 0.0, 0.0, ...</td>\n",
       "    </tr>\n",
       "    <tr>\n",
       "      <th>...</th>\n",
       "      <td>...</td>\n",
       "      <td>...</td>\n",
       "      <td>...</td>\n",
       "      <td>...</td>\n",
       "      <td>...</td>\n",
       "    </tr>\n",
       "    <tr>\n",
       "      <th>1000204</th>\n",
       "      <td>6040</td>\n",
       "      <td>1091</td>\n",
       "      <td>1</td>\n",
       "      <td>[1, 6, 6]</td>\n",
       "      <td>[0.0, 0.0, 0.0, 0.0, 0.0, 1.0, 0.0, 0.0, 0.0, ...</td>\n",
       "    </tr>\n",
       "    <tr>\n",
       "      <th>1000205</th>\n",
       "      <td>6040</td>\n",
       "      <td>1094</td>\n",
       "      <td>5</td>\n",
       "      <td>[1, 6, 6]</td>\n",
       "      <td>[0.0, 0.0, 0.0, 0.0, 0.0, 0.0, 0.0, 0.0, 0.0, ...</td>\n",
       "    </tr>\n",
       "    <tr>\n",
       "      <th>1000206</th>\n",
       "      <td>6040</td>\n",
       "      <td>562</td>\n",
       "      <td>5</td>\n",
       "      <td>[1, 6, 6]</td>\n",
       "      <td>[0.0, 0.0, 0.0, 0.0, 0.0, 1.0, 0.0, 0.0, 0.0, ...</td>\n",
       "    </tr>\n",
       "    <tr>\n",
       "      <th>1000207</th>\n",
       "      <td>6040</td>\n",
       "      <td>1096</td>\n",
       "      <td>4</td>\n",
       "      <td>[1, 6, 6]</td>\n",
       "      <td>[0.0, 0.0, 0.0, 0.0, 0.0, 0.0, 0.0, 0.0, 0.0, ...</td>\n",
       "    </tr>\n",
       "    <tr>\n",
       "      <th>1000208</th>\n",
       "      <td>6040</td>\n",
       "      <td>1097</td>\n",
       "      <td>4</td>\n",
       "      <td>[1, 6, 6]</td>\n",
       "      <td>[0.0, 0.0, 1.0, 1.0, 0.0, 0.0, 0.0, 0.0, 0.0, ...</td>\n",
       "    </tr>\n",
       "  </tbody>\n",
       "</table>\n",
       "<p>1000209 rows × 5 columns</p>\n",
       "</div>"
      ],
      "text/plain": [
       "         user_id  movie_id  rating    user_inf  \\\n",
       "0              1      1193       5  [0, 0, 10]   \n",
       "1              1       661       3  [0, 0, 10]   \n",
       "2              1       914       3  [0, 0, 10]   \n",
       "3              1      3408       4  [0, 0, 10]   \n",
       "4              1      2355       5  [0, 0, 10]   \n",
       "...          ...       ...     ...         ...   \n",
       "1000204     6040      1091       1   [1, 6, 6]   \n",
       "1000205     6040      1094       5   [1, 6, 6]   \n",
       "1000206     6040       562       5   [1, 6, 6]   \n",
       "1000207     6040      1096       4   [1, 6, 6]   \n",
       "1000208     6040      1097       4   [1, 6, 6]   \n",
       "\n",
       "                                                 movie_inf  \n",
       "0        [0.0, 0.0, 0.0, 0.0, 0.0, 0.0, 0.0, 0.0, 0.0, ...  \n",
       "1        [0.0, 0.0, 1.0, 0.0, 1.0, 0.0, 0.0, 0.0, 0.0, ...  \n",
       "2        [0.0, 0.0, 0.0, 0.0, 1.0, 0.0, 0.0, 0.0, 0.0, ...  \n",
       "3        [0.0, 0.0, 0.0, 0.0, 0.0, 0.0, 0.0, 0.0, 0.0, ...  \n",
       "4        [0.0, 0.0, 1.0, 0.0, 0.0, 1.0, 0.0, 0.0, 0.0, ...  \n",
       "...                                                    ...  \n",
       "1000204  [0.0, 0.0, 0.0, 0.0, 0.0, 1.0, 0.0, 0.0, 0.0, ...  \n",
       "1000205  [0.0, 0.0, 0.0, 0.0, 0.0, 0.0, 0.0, 0.0, 0.0, ...  \n",
       "1000206  [0.0, 0.0, 0.0, 0.0, 0.0, 1.0, 0.0, 0.0, 0.0, ...  \n",
       "1000207  [0.0, 0.0, 0.0, 0.0, 0.0, 0.0, 0.0, 0.0, 0.0, ...  \n",
       "1000208  [0.0, 0.0, 1.0, 1.0, 0.0, 0.0, 0.0, 0.0, 0.0, ...  \n",
       "\n",
       "[1000209 rows x 5 columns]"
      ]
     },
     "execution_count": 9,
     "metadata": {},
     "output_type": "execute_result"
    }
   ],
   "source": [
    "ratings['movie_inf'] = ratings.loc[:, 'movie_id']\n",
    "ratings['movie_inf'] = ratings['movie_inf'].map(movies_map)\n",
    "ratings"
   ]
  },
  {
   "cell_type": "code",
   "execution_count": 10,
   "metadata": {},
   "outputs": [
    {
     "data": {
      "image/png": "[encoded data removed]",
      "text/plain": [
       "<Figure size 600x500 with 1 Axes>"
      ]
     },
     "metadata": {},
     "output_type": "display_data"
    }
   ],
   "source": [
    "import matplotlib.pyplot as plt\n",
    "rating_count = ratings[['movie_id','rating']].groupby(['movie_id']).count()\n",
    "plt.figure(figsize=(6,5))\n",
    "plt.scatter(rating_count.index, rating_count.rating, edgecolor='black')\n",
    "plt.xlim(0,rating_count.index.max())\n",
    "plt.ylim(0,)\n",
    "plt.title('Number of Ratings per movie')\n",
    "plt.xlabel('movieId')\n",
    "plt.ylabel('Number of ratings received')\n",
    "plt.show()"
   ]
  },
  {
   "cell_type": "code",
   "execution_count": 11,
   "metadata": {},
   "outputs": [],
   "source": [
    "train, test = train_test_split(ratings, test_size= 0.2, random_state= 42)"
   ]
  },
  {
   "attachments": {},
   "cell_type": "markdown",
   "metadata": {},
   "source": [
    "NEURAL NETWORK BUILDING"
   ]
  },
  {
   "cell_type": "code",
   "execution_count": 12,
   "metadata": {},
   "outputs": [],
   "source": [
    "from sklearn.model_selection import train_test_split\n",
    "from keras.models import Model\n",
    "from keras.layers import Input, Embedding, Flatten, Dense, Concatenate\n",
    "import tensorflow as tf\n",
    "     \n",
    "#Creating movie embedding path\n",
    "movie_input = Input(shape = (1,), name = \"Movie-Input\")\n",
    "movie_embedding = Embedding(n_movies + 1, 10, name= \"Movie-Embedding\")(movie_input)\n",
    "movie_vec = Flatten(name = \"Flatten-Movies\")(movie_embedding)\n",
    "\n",
    "#Creating user embedding path\n",
    "user_input = Input(shape = (1,), name = \"User-Input\")\n",
    "user_embedding = Embedding(n_users + 1, 10, name = \"User-Embedding\")(user_input)\n",
    "user_vec = Flatten(name = \"Flatten-Users\")(user_embedding)\n",
    "\n",
    "#creating movie_inf embedding path\n",
    "genres_input = Input(shape = (18,), name = \"Genres-Input\")\n",
    "genres_embedding = Embedding(18, 5, name = \"Genres-Embedding\")(genres_input)\n",
    "genres_vec = Flatten(name = \"Flatten-Genres\")(genres_embedding)\n",
    "\n",
    "\n",
    "# Creating user_inf path\n",
    "user_inf_input = Input(shape = (3,), name = \"User_inf-Input\")\n",
    "# tf.convert_to_tensor(user_inf_input)\n",
    "# user_inf_embedding = Embedding(n_users + 1, 10, name = \"User_inf-Embedding\")(user_inf_input)\n",
    "user_inf_vec = Flatten(name = \"Flatten_inf-Users\")(user_inf_input)\n",
    "\n",
    "#Concatenate features\n",
    "conc = Concatenate()([movie_vec, user_vec, user_inf_vec, genres_vec])\n",
    "\n",
    "#Weight Initialization\n",
    "initializer = tf.keras.initializers.RandomUniform(minval=0., maxval=1., seed = None)\n",
    "\n",
    "#Add fully-connected-layers\n",
    "fc1 = Dense(128, activation='relu')(conc)\n",
    "fc2 = Dense(100, activation='relu')(fc1)\n",
    "fc3 = Dense(80, activation='relu')(fc2)\n",
    "fc4 = Dense(60, activation='relu')(fc3)\n",
    "fc5 = Dense(32, activation='relu')(fc4)\n",
    "out = Dense(1)(fc5)\n",
    "\n",
    "#Create model and compile it\n",
    "model = Model([[user_input, movie_input], user_inf_input,genres_input], out)\n",
    "model.compile('adam', 'mean_squared_error')"
   ]
  },
  {
   "cell_type": "code",
   "execution_count": 13,
   "metadata": {},
   "outputs": [
    {
     "name": "stdout",
     "output_type": "stream",
     "text": [
      "Model: \"model\"\n",
      "__________________________________________________________________________________________________\n",
      " Layer (type)                   Output Shape         Param #     Connected to                     \n",
      "==================================================================================================\n",
      " Movie-Input (InputLayer)       [(None, 1)]          0           []                               \n",
      "                                                                                                  \n",
      " User-Input (InputLayer)        [(None, 1)]          0           []                               \n",
      "                                                                                                  \n",
      " Genres-Input (InputLayer)      [(None, 18)]         0           []                               \n",
      "                                                                                                  \n",
      " Movie-Embedding (Embedding)    (None, 1, 10)        37070       ['Movie-Input[0][0]']            \n",
      "                                                                                                  \n",
      " User-Embedding (Embedding)     (None, 1, 10)        60410       ['User-Input[0][0]']             \n",
      "                                                                                                  \n",
      " User_inf-Input (InputLayer)    [(None, 3)]          0           []                               \n",
      "                                                                                                  \n",
      " Genres-Embedding (Embedding)   (None, 18, 5)        90          ['Genres-Input[0][0]']           \n",
      "                                                                                                  \n",
      " Flatten-Movies (Flatten)       (None, 10)           0           ['Movie-Embedding[0][0]']        \n",
      "                                                                                                  \n",
      " Flatten-Users (Flatten)        (None, 10)           0           ['User-Embedding[0][0]']         \n",
      "                                                                                                  \n",
      " Flatten_inf-Users (Flatten)    (None, 3)            0           ['User_inf-Input[0][0]']         \n",
      "                                                                                                  \n",
      " Flatten-Genres (Flatten)       (None, 90)           0           ['Genres-Embedding[0][0]']       \n",
      "                                                                                                  \n",
      " concatenate (Concatenate)      (None, 113)          0           ['Flatten-Movies[0][0]',         \n",
      "                                                                  'Flatten-Users[0][0]',          \n",
      "                                                                  'Flatten_inf-Users[0][0]',      \n",
      "                                                                  'Flatten-Genres[0][0]']         \n",
      "                                                                                                  \n",
      " dense (Dense)                  (None, 128)          14592       ['concatenate[0][0]']            \n",
      "                                                                                                  \n",
      " dense_1 (Dense)                (None, 100)          12900       ['dense[0][0]']                  \n",
      "                                                                                                  \n",
      " dense_2 (Dense)                (None, 80)           8080        ['dense_1[0][0]']                \n",
      "                                                                                                  \n",
      " dense_3 (Dense)                (None, 60)           4860        ['dense_2[0][0]']                \n",
      "                                                                                                  \n",
      " dense_4 (Dense)                (None, 32)           1952        ['dense_3[0][0]']                \n",
      "                                                                                                  \n",
      " dense_5 (Dense)                (None, 1)            33          ['dense_4[0][0]']                \n",
      "                                                                                                  \n",
      "==================================================================================================\n",
      "Total params: 139,987\n",
      "Trainable params: 139,987\n",
      "Non-trainable params: 0\n",
      "__________________________________________________________________________________________________\n"
     ]
    }
   ],
   "source": [
    "model.summary()"
   ]
  },
  {
   "cell_type": "code",
   "execution_count": 14,
   "metadata": {},
   "outputs": [
    {
     "data": {
      "image/png": "[encoded data removed]",
      "text/plain": [
       "<IPython.core.display.Image object>"
      ]
     },
     "execution_count": 14,
     "metadata": {},
     "output_type": "execute_result"
    }
   ],
   "source": [
    "from keras.utils.vis_utils import plot_model\n",
    "plot_model(model, rankdir= 'TR', dpi = 100)"
   ]
  },
  {
   "cell_type": "code",
   "execution_count": 15,
   "metadata": {},
   "outputs": [
    {
     "name": "stdout",
     "output_type": "stream",
     "text": [
      "(None, 1) <dtype: 'float32'>\n",
      "(None, 1) <dtype: 'float32'>\n",
      "(None, 3) <dtype: 'float32'>\n",
      "(None, 18) <dtype: 'float32'>\n"
     ]
    },
    {
     "data": {
      "text/plain": [
       "[None, None, None, None]"
      ]
     },
     "execution_count": 15,
     "metadata": {},
     "output_type": "execute_result"
    }
   ],
   "source": [
    "[print(i.shape, i.dtype) for i in model.inputs]"
   ]
  },
  {
   "cell_type": "code",
   "execution_count": 16,
   "metadata": {},
   "outputs": [
    {
     "data": {
      "text/plain": [
       "416292     [1, 6, 4]\n",
       "683230     [1, 0, 4]\n",
       "2434      [1, 0, 10]\n",
       "688533     [1, 6, 3]\n",
       "472584     [0, 1, 5]\n",
       "             ...    \n",
       "259178     [1, 2, 7]\n",
       "365838     [1, 6, 5]\n",
       "131932    [0, 6, 16]\n",
       "671155     [1, 6, 6]\n",
       "121958     [1, 6, 0]\n",
       "Name: user_inf, Length: 800167, dtype: object"
      ]
     },
     "execution_count": 16,
     "metadata": {},
     "output_type": "execute_result"
    }
   ],
   "source": [
    "train.user_inf"
   ]
  },
  {
   "cell_type": "code",
   "execution_count": 17,
   "metadata": {},
   "outputs": [
    {
     "data": {
      "text/plain": [
       "(800167, 18)"
      ]
     },
     "execution_count": 17,
     "metadata": {},
     "output_type": "execute_result"
    }
   ],
   "source": [
    "np.array([np.array(val) for val in train.user_inf]).shape\n",
    "np.array([np.array(val) for val in train.movie_inf]).shape"
   ]
  },
  {
   "cell_type": "code",
   "execution_count": 18,
   "metadata": {},
   "outputs": [
    {
     "data": {
      "text/plain": [
       "(800167,)"
      ]
     },
     "execution_count": 18,
     "metadata": {},
     "output_type": "execute_result"
    }
   ],
   "source": [
    "train.movie_id.shape"
   ]
  },
  {
   "cell_type": "code",
   "execution_count": 19,
   "metadata": {},
   "outputs": [
    {
     "name": "stdout",
     "output_type": "stream",
     "text": [
      "Epoch 1/18\n",
      "25006/25006 [==============================] - 165s 7ms/step - loss: 0.8838\n",
      "Epoch 2/18\n",
      "25006/25006 [==============================] - 164s 7ms/step - loss: 0.8136\n",
      "Epoch 3/18\n",
      "25006/25006 [==============================] - 159s 6ms/step - loss: 0.7906\n",
      "Epoch 4/18\n",
      "25006/25006 [==============================] - 157s 6ms/step - loss: 0.7650\n",
      "Epoch 5/18\n",
      "25006/25006 [==============================] - 157s 6ms/step - loss: 0.7451\n",
      "Epoch 6/18\n",
      "25006/25006 [==============================] - 163s 7ms/step - loss: 0.7294\n",
      "Epoch 7/18\n",
      "25006/25006 [==============================] - 173s 7ms/step - loss: 0.7159\n",
      "Epoch 8/18\n",
      "25006/25006 [==============================] - 174s 7ms/step - loss: 0.7051\n",
      "Epoch 9/18\n",
      "25006/25006 [==============================] - 178s 7ms/step - loss: 0.6963\n",
      "Epoch 10/18\n",
      "25006/25006 [==============================] - 178s 7ms/step - loss: 0.6887\n",
      "Epoch 11/18\n",
      "25006/25006 [==============================] - 175s 7ms/step - loss: 0.6820\n",
      "Epoch 12/18\n",
      "25006/25006 [==============================] - 171s 7ms/step - loss: 0.6752\n",
      "Epoch 13/18\n",
      "25006/25006 [==============================] - 175s 7ms/step - loss: 0.6696\n",
      "Epoch 14/18\n",
      "25006/25006 [==============================] - 174s 7ms/step - loss: 0.6637\n",
      "Epoch 15/18\n",
      "25006/25006 [==============================] - 164s 7ms/step - loss: 0.6586\n",
      "Epoch 16/18\n",
      "25006/25006 [==============================] - 167s 7ms/step - loss: 0.6538\n",
      "Epoch 17/18\n",
      "25006/25006 [==============================] - 159s 6ms/step - loss: 0.6492\n",
      "Epoch 18/18\n",
      "25006/25006 [==============================] - 158s 6ms/step - loss: 0.6459\n"
     ]
    }
   ],
   "source": [
    "history = model.fit([[train.user_id, train.movie_id],np.array([np.array(val) for val in train.user_inf]), np.array([np.array(val) for val in train.movie_inf])], train.rating, epochs = 18, verbose = 1)"
   ]
  },
  {
   "cell_type": "code",
   "execution_count": 20,
   "metadata": {},
   "outputs": [
    {
     "name": "stderr",
     "output_type": "stream",
     "text": [
      "WARNING:absl:Function `_wrapped_model` contains input name(s) User-Input, Movie-Input, User_inf-Input, Genres-Input with unsupported characters which will be renamed to user_input, movie_input, user_inf_input, genres_input in the SavedModel.\n"
     ]
    },
    {
     "name": "stdout",
     "output_type": "stream",
     "text": [
      "INFO:tensorflow:Assets written to: Neural_RS\\assets\n"
     ]
    },
    {
     "name": "stderr",
     "output_type": "stream",
     "text": [
      "INFO:tensorflow:Assets written to: Neural_RS\\assets\n"
     ]
    }
   ],
   "source": [
    "model.save('Neural_RS')"
   ]
  },
  {
   "cell_type": "code",
   "execution_count": 21,
   "metadata": {},
   "outputs": [],
   "source": [
    "from keras.models import load_model\n",
    "model = load_model(\"Neural_RS\")"
   ]
  },
  {
   "cell_type": "code",
   "execution_count": 32,
   "metadata": {},
   "outputs": [
    {
     "data": {
      "text/plain": [
       "array([ 1,  2,  3,  4,  5,  6,  7,  8,  9, 10])"
      ]
     },
     "execution_count": 32,
     "metadata": {},
     "output_type": "execute_result"
    }
   ],
   "source": [
    "item_data = np.array(list(set(ratings.movie_id)))\n",
    "item_data[:10]"
   ]
  },
  {
   "cell_type": "code",
   "execution_count": 33,
   "metadata": {},
   "outputs": [
    {
     "data": {
      "text/plain": [
       "array([1, 1, 1, 1, 1, 1, 1, 1, 1, 1])"
      ]
     },
     "execution_count": 33,
     "metadata": {},
     "output_type": "execute_result"
    }
   ],
   "source": [
    "user = np.array([1 for i in range(len(item_data))])\n",
    "user[:10]"
   ]
  },
  {
   "cell_type": "code",
   "execution_count": 36,
   "metadata": {},
   "outputs": [
    {
     "data": {
      "text/plain": [
       "array([[ 0,  0, 10],\n",
       "       [ 0,  0, 10],\n",
       "       [ 0,  0, 10],\n",
       "       ...,\n",
       "       [ 0,  0, 10],\n",
       "       [ 0,  0, 10],\n",
       "       [ 0,  0, 10]])"
      ]
     },
     "execution_count": 36,
     "metadata": {},
     "output_type": "execute_result"
    }
   ],
   "source": [
    "user_inf_pre = np.array([np.array([0, 0, 10]) for i in range(len(item_data))])\n",
    "user_inf_pre"
   ]
  },
  {
   "cell_type": "code",
   "execution_count": 37,
   "metadata": {},
   "outputs": [
    {
     "data": {
      "text/plain": [
       "array([0., 0., 1., 0., 1., 0., 0., 0., 0., 1., 0., 0., 0., 0., 0., 0., 0.,\n",
       "       0.])"
      ]
     },
     "execution_count": 37,
     "metadata": {},
     "output_type": "execute_result"
    }
   ],
   "source": [
    "train.movie_inf[1]"
   ]
  },
  {
   "cell_type": "code",
   "execution_count": 42,
   "metadata": {},
   "outputs": [
    {
     "data": {
      "text/plain": [
       "array([[0., 0., 1., ..., 0., 0., 0.],\n",
       "       [0., 0., 1., ..., 0., 0., 0.],\n",
       "       [0., 0., 0., ..., 0., 1., 0.],\n",
       "       ...,\n",
       "       [0., 0., 0., ..., 0., 0., 0.],\n",
       "       [0., 0., 0., ..., 0., 0., 0.],\n",
       "       [1., 0., 0., ..., 0., 0., 0.]])"
      ]
     },
     "execution_count": 42,
     "metadata": {},
     "output_type": "execute_result"
    }
   ],
   "source": [
    "movie_inf_pre = np.array([np.array(movies_map[i]) for i in item_data])\n",
    "movie_inf_pre\n",
    "\n"
   ]
  },
  {
   "cell_type": "code",
   "execution_count": 43,
   "metadata": {},
   "outputs": [
    {
     "data": {
      "text/plain": [
       "array([[4.3937063],\n",
       "       [3.3985052],\n",
       "       [3.8286796],\n",
       "       ...,\n",
       "       [3.686586 ],\n",
       "       [3.686586 ],\n",
       "       [3.6169138]], dtype=float32)"
      ]
     },
     "execution_count": 43,
     "metadata": {},
     "output_type": "execute_result"
    }
   ],
   "source": [
    "predictions = model.predict([[user,item_data],user_inf_pre,movie_inf_pre])\n",
    "predictions"
   ]
  },
  {
   "cell_type": "code",
   "execution_count": 44,
   "metadata": {},
   "outputs": [
    {
     "data": {
      "text/plain": [
       "array([ 368,  282,  283,  253,  284,  892,  252, 2479, 2672,  285],\n",
       "      dtype=int64)"
      ]
     },
     "execution_count": 44,
     "metadata": {},
     "output_type": "execute_result"
    }
   ],
   "source": [
    "predictions = np.array([a[0] for a in predictions])\n",
    "recommended_movie = predictions[::-1].argsort()[:10]\n",
    "recommended_movie\n"
   ]
  },
  {
   "cell_type": "code",
   "execution_count": 45,
   "metadata": {},
   "outputs": [
    {
     "data": {
      "text/html": [
       "<div>\n",
       "<style scoped>\n",
       "    .dataframe tbody tr th:only-of-type {\n",
       "        vertical-align: middle;\n",
       "    }\n",
       "\n",
       "    .dataframe tbody tr th {\n",
       "        vertical-align: top;\n",
       "    }\n",
       "\n",
       "    .dataframe thead th {\n",
       "        text-align: right;\n",
       "    }\n",
       "</style>\n",
       "<table border=\"1\" class=\"dataframe\">\n",
       "  <thead>\n",
       "    <tr style=\"text-align: right;\">\n",
       "      <th></th>\n",
       "      <th>movie_id</th>\n",
       "      <th>title</th>\n",
       "      <th>genres</th>\n",
       "    </tr>\n",
       "  </thead>\n",
       "  <tbody>\n",
       "    <tr>\n",
       "      <th>249</th>\n",
       "      <td>252</td>\n",
       "      <td>I.Q. (1994)</td>\n",
       "      <td>Comedy|Romance</td>\n",
       "    </tr>\n",
       "    <tr>\n",
       "      <th>250</th>\n",
       "      <td>253</td>\n",
       "      <td>Interview with the Vampire (1994)</td>\n",
       "      <td>Drama|Horror</td>\n",
       "    </tr>\n",
       "    <tr>\n",
       "      <th>279</th>\n",
       "      <td>282</td>\n",
       "      <td>Nell (1994)</td>\n",
       "      <td>Drama</td>\n",
       "    </tr>\n",
       "    <tr>\n",
       "      <th>280</th>\n",
       "      <td>283</td>\n",
       "      <td>New Jersey Drive (1995)</td>\n",
       "      <td>Crime|Drama</td>\n",
       "    </tr>\n",
       "    <tr>\n",
       "      <th>281</th>\n",
       "      <td>284</td>\n",
       "      <td>New York Cop (1996)</td>\n",
       "      <td>Action|Crime</td>\n",
       "    </tr>\n",
       "    <tr>\n",
       "      <th>282</th>\n",
       "      <td>285</td>\n",
       "      <td>Beyond Bedlam (1993)</td>\n",
       "      <td>Drama|Horror</td>\n",
       "    </tr>\n",
       "    <tr>\n",
       "      <th>364</th>\n",
       "      <td>368</td>\n",
       "      <td>Maverick (1994)</td>\n",
       "      <td>Action|Comedy|Western</td>\n",
       "    </tr>\n",
       "    <tr>\n",
       "      <th>880</th>\n",
       "      <td>892</td>\n",
       "      <td>Twelfth Night (1996)</td>\n",
       "      <td>Comedy|Drama|Romance</td>\n",
       "    </tr>\n",
       "    <tr>\n",
       "      <th>2410</th>\n",
       "      <td>2479</td>\n",
       "      <td>Gloria (1999)</td>\n",
       "      <td>Drama|Thriller</td>\n",
       "    </tr>\n",
       "    <tr>\n",
       "      <th>2603</th>\n",
       "      <td>2672</td>\n",
       "      <td>Thirteenth Floor, The (1999)</td>\n",
       "      <td>Drama|Sci-Fi|Thriller</td>\n",
       "    </tr>\n",
       "  </tbody>\n",
       "</table>\n",
       "</div>"
      ],
      "text/plain": [
       "      movie_id                              title                 genres\n",
       "249        252                        I.Q. (1994)         Comedy|Romance\n",
       "250        253  Interview with the Vampire (1994)           Drama|Horror\n",
       "279        282                        Nell (1994)                  Drama\n",
       "280        283            New Jersey Drive (1995)            Crime|Drama\n",
       "281        284                New York Cop (1996)           Action|Crime\n",
       "282        285               Beyond Bedlam (1993)           Drama|Horror\n",
       "364        368                    Maverick (1994)  Action|Comedy|Western\n",
       "880        892               Twelfth Night (1996)   Comedy|Drama|Romance\n",
       "2410      2479                      Gloria (1999)         Drama|Thriller\n",
       "2603      2672       Thirteenth Floor, The (1999)  Drama|Sci-Fi|Thriller"
      ]
     },
     "execution_count": 45,
     "metadata": {},
     "output_type": "execute_result"
    }
   ],
   "source": [
    "movies[movies['movie_id'].isin(recommended_movie)]"
   ]
  },
  {
   "cell_type": "code",
   "execution_count": 46,
   "metadata": {},
   "outputs": [
    {
     "name": "stdout",
     "output_type": "stream",
     "text": [
      "6252/6252 [==============================] - 22s 4ms/step - loss: 0.7659\n"
     ]
    },
    {
     "data": {
      "text/plain": [
       "0.765880823135376"
      ]
     },
     "execution_count": 46,
     "metadata": {},
     "output_type": "execute_result"
    }
   ],
   "source": [
    "model.evaluate([[test.user_id, test.movie_id], np.array([np.array(val) for val in test.user_inf]), np.array([np.array(val) for val in test.movie_inf]) ], test.rating)"
   ]
  }
 ],
 "metadata": {
  "kernelspec": {
   "display_name": "GPU",
   "language": "python",
   "name": "python3"
  },
  "language_info": {
   "codemirror_mode": {
    "name": "ipython",
    "version": 3
   },
   "file_extension": ".py",
   "mimetype": "text/x-python",
   "name": "python",
   "nbconvert_exporter": "python",
   "pygments_lexer": "ipython3",
   "version": "3.10.8"
  },
  "orig_nbformat": 4
 },
 "nbformat": 4,
 "nbformat_minor": 2
}
