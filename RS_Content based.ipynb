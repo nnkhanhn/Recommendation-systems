{
 "cells": [
  {
   "cell_type": "code",
   "execution_count": 1,
   "metadata": {},
   "outputs": [],
   "source": [
    "from datetime import datetime\n",
    "from data_loader import dataloader\n",
    "from sklearn.model_selection import train_test_split\n",
    "from sklearn.linear_model import Ridge\n",
    "import pickle\n",
    "from sklearn.metrics import mean_squared_error\n",
    "import pandas as pd\n",
    "import csv"
   ]
  },
  {
   "cell_type": "code",
   "execution_count": 2,
   "metadata": {},
   "outputs": [
    {
     "name": "stdout",
     "output_type": "stream",
     "text": [
      "<bound method DataFrame.__len__ of       user_id gender  age  occupation    zip\n",
      "0           1      F    1          10  48067\n",
      "1           2      M   56          16  70072\n",
      "2           3      M   25          15  55117\n",
      "3           4      M   45           7  02460\n",
      "4           5      M   25          20  55455\n",
      "...       ...    ...  ...         ...    ...\n",
      "6035     6036      F   25          15  32603\n",
      "6036     6037      F   45           1  76006\n",
      "6037     6038      F   56           1  14706\n",
      "6038     6039      F   45           0  01060\n",
      "6039     6040      M   25           6  11106\n",
      "\n",
      "[6040 rows x 5 columns]>\n",
      "      movie_id                       title          genres\n",
      "3878      3948     Meet the Parents (2000)          Comedy\n",
      "3879      3949  Requiem for a Dream (2000)           Drama\n",
      "3880      3950            Tigerland (2000)           Drama\n",
      "3881      3951     Two Family House (2000)           Drama\n",
      "3882      3952       Contender, The (2000)  Drama|Thriller\n",
      "   user_id  movie_id  rating  timestamp\n",
      "0        1      1193       5  978300760\n",
      "1        1       661       3  978302109\n",
      "2        1       914       3  978301968\n",
      "3        1      3408       4  978300275\n",
      "4        1      2355       5  978824291\n"
     ]
    }
   ],
   "source": [
    "user,ratings,movies = dataloader()\n",
    "print(user.__len__)\n",
    "print(movies.tail())\n",
    "print(ratings.head())"
   ]
  },
  {
   "cell_type": "code",
   "execution_count": 4,
   "metadata": {},
   "outputs": [
    {
     "name": "stdout",
     "output_type": "stream",
     "text": [
      "{'Action': 0, 'Adventure': 1, 'Animation': 2, \"Children's\": 3, 'Comedy': 4, 'Crime': 5, 'Documentary': 6, 'Drama': 7, 'Fantasy': 8, 'Film-Noir': 9, 'Horror': 10, 'Musical': 11, 'Mystery': 12, 'Romance': 13, 'Sci-Fi': 14, 'Thriller': 15, 'War': 16, 'Western': 17}\n",
      "<class 'int'>\n"
     ]
    }
   ],
   "source": [
    "movie_index_by_id = {id: i for i, id in enumerate(movies[\"movie_id\"])}\n",
    "# print(movie_index_by_id)\n",
    "genres = [\n",
    "    \"Action\",\n",
    "    \"Adventure\",\n",
    "    \"Animation\",\n",
    "    \"Children's\",\n",
    "    \"Comedy\",\n",
    "    \"Crime\",\n",
    "    \"Documentary\",\n",
    "    \"Drama\",\n",
    "    \"Fantasy\",\n",
    "    \"Film-Noir\",\n",
    "    \"Horror\",\n",
    "    \"Musical\",\n",
    "    \"Mystery\",\n",
    "    \"Romance\",\n",
    "    \"Sci-Fi\",\n",
    "    \"Thriller\",\n",
    "    \"War\",\n",
    "    \"Western\",\n",
    "]\n",
    "genre_index_by_name = {name:i for i, name in enumerate(genres)}\n",
    "print(genre_index_by_name)\n",
    "print(type(movie_index_by_id[1]))\n"
   ]
  },
  {
   "cell_type": "code",
   "execution_count": 4,
   "metadata": {},
   "outputs": [
    {
     "data": {
      "text/plain": [
       "array([[0., 0., 1., ..., 0., 0., 0.],\n",
       "       [0., 1., 0., ..., 0., 0., 0.],\n",
       "       [0., 0., 0., ..., 0., 0., 0.],\n",
       "       ...,\n",
       "       [0., 0., 0., ..., 0., 0., 0.],\n",
       "       [0., 0., 0., ..., 0., 0., 0.],\n",
       "       [0., 0., 0., ..., 1., 0., 0.]])"
      ]
     },
     "execution_count": 4,
     "metadata": {},
     "output_type": "execute_result"
    }
   ],
   "source": [
    "import numpy as np\n",
    "# build binary array for movie genres\n",
    "movie_features = np.zeros((len(movies), len(genres)))\n",
    "for i, movie_genres in enumerate(movies[\"genres\"]):\n",
    "    for genre in movie_genres.split(\"|\"):        \n",
    "        genre_index = genre_index_by_name[genre]\n",
    "        movie_features[i, genre_index] = 1\n",
    "movie_features"
   ]
  },
  {
   "cell_type": "code",
   "execution_count": 5,
   "metadata": {},
   "outputs": [],
   "source": [
    "def get_weight(user_id):\n",
    "    user_ratings = ratings[ratings['user_id']==user_id]\n",
    "    rating = user_ratings['rating']\n",
    "    movie_indexes = [movie_index_by_id[movie_id] for movie_id in user_ratings[\"movie_id\"]]\n",
    "    movie_data = movie_features[movie_indexes]\n",
    "    movie_data = np.transpose(movie_data)\n",
    "    c = movie_data @ rating\n",
    "    for i in range(len(c)):\n",
    "        if sum(movie_data[i]) > 2 :\n",
    "            c[i] =float (c[i]/sum(movie_data[i]))\n",
    "        else:\n",
    "            c[i] = c[i]/2\n",
    "    return c\n",
    "user_model_dict = {}\n",
    "for user_id in user[\"user_id\"].unique():\n",
    "    user_model_dict[user_id] = get_weight(user_id)\n"
   ]
  },
  {
   "cell_type": "code",
   "execution_count": 6,
   "metadata": {},
   "outputs": [
    {
     "name": "stdout",
     "output_type": "stream",
     "text": [
      "{'user_id': 1, 'genres': 3883, 'weight': 4}\n"
     ]
    }
   ],
   "source": [
    "import math\n",
    "dict_u  = []\n",
    "for i in range(len(user_model_dict)):\n",
    "    for j in range(len(user_model_dict[i+1])):\n",
    "        if(not(math.isnan(user_model_dict[i+1][j])) and user_model_dict[i+1][j] !=0 ):\n",
    "            dict_u.append({'user_id':i+1, 'genres':j+3883,'weight':int(user_model_dict[i+1][j]) })\n",
    "print(dict_u[0])"
   ]
  },
  {
   "cell_type": "code",
   "execution_count": 7,
   "metadata": {},
   "outputs": [
    {
     "name": "stdout",
     "output_type": "stream",
     "text": [
      "       user_id  genres  weight\n",
      "0            1    3883       4\n",
      "1            1    3884       4\n",
      "2            1    3885       4\n",
      "3            1    3886       4\n",
      "4            1    3887       4\n",
      "...        ...     ...     ...\n",
      "93882     6040    3896       3\n",
      "93883     6040    3897       3\n",
      "93884     6040    3898       3\n",
      "93885     6040    3899       3\n",
      "93886     6040    3900       4\n",
      "\n",
      "[93887 rows x 3 columns]\n"
     ]
    }
   ],
   "source": [
    "dict = [\"user_id\", \"genres\", \"weight\"]\n",
    "p = pd.DataFrame(columns=dict, data=dict_u )\n",
    "print(p)"
   ]
  },
  {
   "cell_type": "code",
   "execution_count": 8,
   "metadata": {},
   "outputs": [],
   "source": [
    "p.to_csv(r'u_dict.csv', index= None)"
   ]
  }
 ],
 "metadata": {
  "kernelspec": {
   "display_name": "GPU",
   "language": "python",
   "name": "python3"
  },
  "language_info": {
   "codemirror_mode": {
    "name": "ipython",
    "version": 3
   },
   "file_extension": ".py",
   "mimetype": "text/x-python",
   "name": "python",
   "nbconvert_exporter": "python",
   "pygments_lexer": "ipython3",
   "version": "3.10.8"
  },
  "orig_nbformat": 4,
  "vscode": {
   "interpreter": {
    "hash": "7e2bc26b2c45a2768fc2d5409743fb042ee25d2b84a85e0694f8143ebb07f301"
   }
  }
 },
 "nbformat": 4,
 "nbformat_minor": 2
}
